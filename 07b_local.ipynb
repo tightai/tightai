{
 "cells": [
  {
   "cell_type": "code",
   "execution_count": null,
   "metadata": {},
   "outputs": [],
   "source": [
    "import requests"
   ]
  },
  {
   "cell_type": "code",
   "execution_count": null,
   "metadata": {},
   "outputs": [],
   "source": [
    "version_data = {\"project_id\": \"spam-txt\", \n",
    "               \"version\": 1, \n",
    "               \"prefix\": \"spam-txt-v1\", \n",
    "               \"bucket\": \"tgt-jmitchel3\", \n",
    "               \"db_id\": \"4c801b59-c298-407d-8bf6-85e03932a961\",\n",
    "\n",
    "              }"
   ]
  },
  {
   "cell_type": "code",
   "execution_count": null,
   "metadata": {},
   "outputs": [
    {
     "data": {
      "text/plain": [
       "{'app_name': 'spam-txt-v1',\n",
       " 'project_id': 'spam-txt',\n",
       " 'version': 1,\n",
       " 'generation': 6,\n",
       " 'url': 'http://spam-txt-v1.apps.tight.ml',\n",
       " 'status_code': 200,\n",
       " 'cluster_url': 'http://spam-txt-v1.apps.svc.cluster.local',\n",
       " 'ready': True,\n",
       " 'ready_time': '2020-05-21T18:57:26Z',\n",
       " 'messages': ['Revision \"spam-txt-v1-4ddc2\" failed with message: Container failed with: , **kwargs)\\n  File \"/usr/local/lib/python3.6/site-packages/click/core.py\", line 782, in main\\n    rv = self.invoke(ctx)\\n  File \"/usr/local/lib/python3.6/site-packages/click/core.py\", line 1066, in invoke\\n    return ctx.invoke(self.callback, **ctx.params)\\n  File \"/usr/local/lib/python3.6/site-packages/click/core.py\", line 610, in invoke\\n    return callback(*args, **kwargs)\\n  File \"/usr/local/lib/python3.6/site-packages/uvicorn/main.py\", line 331, in main\\n    run(**kwargs)\\n  File \"/usr/local/lib/python3.6/site-packages/uvicorn/main.py\", line 354, in run\\n    server.run()\\n  File \"/usr/local/lib/python3.6/site-packages/uvicorn/main.py\", line 382, in run\\n    loop.run_until_complete(self.serve(sockets=sockets))\\n  File \"uvloop/loop.pyx\", line 1456, in uvloop.loop.Loop.run_until_complete\\n  File \"/usr/local/lib/python3.6/site-packages/uvicorn/main.py\", line 389, in serve\\n    config.load()\\n  File \"/usr/local/lib/python3.6/site-packages/uvicorn/config.py\", line 288, in load\\n    self.loaded_app = import_from_string(self.app)\\n  File \"/usr/local/lib/python3.6/site-packages/uvicorn/importer.py\", line 20, in import_from_string\\n    module = importlib.import_module(module_str)\\n  File \"/usr/local/lib/python3.6/importlib/__init__.py\", line 126, in import_module\\n    return _bootstrap._gcd_import(name[level:], package, level)\\n  File \"<frozen importlib._bootstrap>\", line 994, in _gcd_import\\n  File \"<frozen importlib._bootstrap>\", line 971, in _find_and_load\\n  File \"<frozen importlib._bootstrap>\", line 955, in _find_and_load_unlocked\\n  File \"<frozen importlib._bootstrap>\", line 665, in _load_unlocked\\n  File \"<frozen importlib._bootstrap_external>\", line 678, in exec_module\\n  File \"<frozen importlib._bootstrap>\", line 219, in _call_with_frames_removed\\n  File \"./server/main.py\", line 12, in <module>\\n    from .app.entry import run as app_run\\n  File \"./server/app/entry.py\", line 12, in <module>\\n    tokenizer = pickle.load(open(TOKENIZER_SAVE_PATH, \\'rb\\'))\\nFileNotFoundError: [Errno 2] No such file or directory: \\'/server/app/data/tokenizer.pkl\\'\\n.']}"
      ]
     },
     "execution_count": null,
     "metadata": {},
     "output_type": "execute_result"
    }
   ],
   "source": [
    "# status\n",
    "r = requests.post('http://127.0.0.1:8123/status', json=version_data)\n",
    "r.json()"
   ]
  },
  {
   "cell_type": "code",
   "execution_count": null,
   "metadata": {},
   "outputs": [
    {
     "data": {
      "text/plain": [
       "'{\"build\":true,\"image_path\":\"gcr.io/tightai/tgt-jmitchel3-spam-txt-v1\",\"db_id\":\"4c801b59-c298-407d-8bf6-85e03932a961\",\"request_db_id\":null}'"
      ]
     },
     "execution_count": null,
     "metadata": {},
     "output_type": "execute_result"
    }
   ],
   "source": [
    "r = requests.post(\"http://127.0.0.1:8123/build\", json=version_data)\n",
    "r.text"
   ]
  },
  {
   "cell_type": "code",
   "execution_count": null,
   "metadata": {},
   "outputs": [
    {
     "data": {
      "text/plain": [
       "'{\"app_name\":\"spam-sms-v2\",\"project_id\":null,\"version\":null,\"url\":\"http://spam-sms-v2.apps.tight.ml\",\"status_code\":200,\"cluster_url\":\"http://spam-sms-v2.apps.svc.cluster.local\",\"ready\":true,\"ready_time\":\"2020-05-21T16:38:29Z\",\"image\":\"gcr.io/tightai/tightai-cli-api-server\"}'"
      ]
     },
     "execution_count": null,
     "metadata": {},
     "output_type": "execute_result"
    }
   ],
   "source": [
    "r = requests.post(\"http://127.0.0.1:8123/deploy\", json=version_data)\n",
    "r.text"
   ]
  },
  {
   "cell_type": "code",
   "execution_count": null,
   "metadata": {},
   "outputs": [],
   "source": [
    "r = requests.post(\"http://localhost:8178/\", json={'hello': 'world', 'received': 'oker'})"
   ]
  },
  {
   "cell_type": "code",
   "execution_count": null,
   "metadata": {},
   "outputs": [],
   "source": [
    "r.json()"
   ]
  },
  {
   "cell_type": "code",
   "execution_count": null,
   "metadata": {},
   "outputs": [
    {
     "data": {
      "text/plain": [
       "{'query': 'Not sure about this one',\n",
       " 'formatted': [{'entertainment': '18.58%'},\n",
       "  {'business': '27.72%'},\n",
       "  {'science/tech': '30.52%'},\n",
       "  {'health': '23.18%'}],\n",
       " 'predictions': [{'entertainment': '0.19'},\n",
       "  {'business': '0.28'},\n",
       "  {'science/tech': '0.31'},\n",
       "  {'health': '0.23'}]}"
      ]
     },
     "execution_count": null,
     "metadata": {},
     "output_type": "execute_result"
    }
   ],
   "source": [
    "r = requests.get(\"http://0.0.0.0:5007\")\n",
    "r.json()"
   ]
  },
  {
   "cell_type": "code",
   "execution_count": null,
   "metadata": {},
   "outputs": [],
   "source": [
    "r = requests.post(\"https://spam-sms-v2.apps.tight.ml\", json={\"query\": \"Hello world\"})"
   ]
  },
  {
   "cell_type": "code",
   "execution_count": null,
   "metadata": {},
   "outputs": [
    {
     "data": {
      "text/plain": [
       "{'query': 'Hello world',\n",
       " 'predictions': [{'entertainment': '0.64'},\n",
       "  {'business': '0.10'},\n",
       "  {'science/tech': '0.13'},\n",
       "  {'health': '0.13'}],\n",
       " 'predictions_raw': [],\n",
       " 'formatted': [{'entertainment': '64.02%'},\n",
       "  {'business': '9.52%'},\n",
       "  {'science/tech': '13.45%'},\n",
       "  {'health': '13.00%'}]}"
      ]
     },
     "execution_count": null,
     "metadata": {},
     "output_type": "execute_result"
    }
   ],
   "source": [
    "r.json()"
   ]
  },
  {
   "cell_type": "code",
   "execution_count": null,
   "metadata": {},
   "outputs": [],
   "source": [
    "from tightai.projects import Project, Version"
   ]
  },
  {
   "cell_type": "code",
   "execution_count": null,
   "metadata": {},
   "outputs": [],
   "source": [
    "project = Project.objects.get('spam-sms')"
   ]
  },
  {
   "cell_type": "code",
   "execution_count": null,
   "metadata": {},
   "outputs": [],
   "source": [
    "# version = project.create_version(version=2)\n",
    "# version.push(\"/Users/jmitch/tight/my-tight-apps/spam-sms\")"
   ]
  },
  {
   "cell_type": "code",
   "execution_count": null,
   "metadata": {},
   "outputs": [],
   "source": [
    "version = project.get_version(version=2)\n",
    "# version.destroy()"
   ]
  },
  {
   "cell_type": "code",
   "execution_count": null,
   "metadata": {},
   "outputs": [
    {
     "name": "stdout",
     "output_type": "stream",
     "text": [
      "Uploading...\n",
      "requirements.txt was uploaded successfully\n",
      "__init__.py was uploaded successfully\n",
      "Pipfile was uploaded successfully\n",
      "entry.py was uploaded successfully\n",
      "Pipfile.lock was uploaded successfully\n",
      "data/multi.hdf5 was uploaded successfully\n",
      "data/tokenizer.pkl was uploaded successfully\n",
      "7 files uploaded.\n",
      "Deploying...\n",
      "project_id: spam-sms\n",
      "version: 2\n",
      "description: \n",
      "url: http://spam-sms-v2.apps.tight.ml\n",
      "deployed: True\n",
      "deployed_timestamp: 2020-05-21T17:15:09Z\n",
      "destroyed: False\n",
      "destroyed_timestamp: 2020-05-21T17:03:09.093838Z\n",
      "updated: 2020-05-21T17:22:11.959460Z\n",
      "timestamp: 2020-05-21T16:36:54.572323Z\n"
     ]
    },
    {
     "data": {
      "text/plain": [
       "'http://spam-sms-v2.apps.tight.ml'"
      ]
     },
     "execution_count": null,
     "metadata": {},
     "output_type": "execute_result"
    }
   ],
   "source": [
    "version.push(\"/Users/jmitch/tight/my-tight-apps/spam-sms\")"
   ]
  },
  {
   "cell_type": "code",
   "execution_count": null,
   "metadata": {},
   "outputs": [
    {
     "name": "stdout",
     "output_type": "stream",
     "text": [
      "project_id: spam-sms\n",
      "version: 2\n",
      "description: \n",
      "url: http://spam-sms-v2.apps.tight.ml\n",
      "deployed: True\n",
      "deployed_timestamp: 2020-05-21T17:28:36Z\n",
      "destroyed: False\n",
      "destroyed_timestamp: None\n",
      "updated: 2020-05-21T17:30:46.926349Z\n",
      "timestamp: 2020-05-21T16:36:54.572323Z\n"
     ]
    },
    {
     "data": {
      "text/plain": [
       "{'project_id': 'spam-sms',\n",
       " 'version': 2,\n",
       " 'description': '',\n",
       " 'url': 'http://spam-sms-v2.apps.tight.ml',\n",
       " 'deployed': True,\n",
       " 'deployed_timestamp': '2020-05-21T17:28:36Z',\n",
       " 'destroyed': False,\n",
       " 'destroyed_timestamp': None,\n",
       " 'updated': '2020-05-21T17:30:46.926349Z',\n",
       " 'timestamp': '2020-05-21T16:36:54.572323Z'}"
      ]
     },
     "execution_count": null,
     "metadata": {},
     "output_type": "execute_result"
    }
   ],
   "source": [
    "version.status()"
   ]
  },
  {
   "cell_type": "code",
   "execution_count": null,
   "metadata": {},
   "outputs": [],
   "source": []
  }
 ],
 "metadata": {
  "kernelspec": {
   "display_name": "Python 3",
   "language": "python",
   "name": "python3"
  }
 },
 "nbformat": 4,
 "nbformat_minor": 4
}

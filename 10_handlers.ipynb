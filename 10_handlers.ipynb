{
 "cells": [
  {
   "cell_type": "code",
   "execution_count": null,
   "metadata": {},
   "outputs": [],
   "source": [
    "# default_exp handlers"
   ]
  },
  {
   "cell_type": "code",
   "execution_count": null,
   "metadata": {},
   "outputs": [],
   "source": [
    "#export\n",
    "import base64\n",
    "import os\n",
    "from tightai.conf import USER_HOME, TIGHTAI_LOCAL_DIRECTORY, TIGHTAI_LOCAL_CREDENTIALS\n",
    "\n",
    "\n",
    "class CredentialHandler:\n",
    "    def to_environ(self, username=None, token=None):\n",
    "        if username is None or token is None:\n",
    "            raise Exception(\"Username and Token are required.\")\n",
    "        os.environ['TIGHTAI_USER'] = username\n",
    "        os.environ['TIGHTAI_TOKEN'] = token\n",
    "        return\n",
    "    \n",
    "    def get_username(self):\n",
    "        username, _        = self.from_file()\n",
    "        return username\n",
    "\n",
    "    def get_encoded_token(self):\n",
    "        username, token        = self.from_file()\n",
    "        username_token         = \"{username}:{token}\".format(username=username, token=token)\n",
    "        encoded                = base64.b64encode(username_token.encode())\n",
    "        return encoded.decode()\n",
    "\n",
    "\n",
    "    def from_file(self):\n",
    "        if not TIGHTAI_LOCAL_CREDENTIALS.exists():\n",
    "            msg = \"Tight.ai credentials not found.\\n\\nSign up:\\nhttps://tight.ai/signup.\\n\\nLogin:\\n$ python -c \\\"from tightai.auth import login; login();\\\"\\nor\\n$ tight login\\n\"\n",
    "            print(msg)\n",
    "            raise Exception(msg)\n",
    "        with open(TIGHTAI_LOCAL_CREDENTIALS) as inf:\n",
    "            username = None\n",
    "            token = None\n",
    "            for line in inf:\n",
    "                line = line.split('=')\n",
    "                line[0] = line[0].strip()\n",
    "                if line[0] == 'TIGHTAI_USER':\n",
    "                    username = line[1].strip().replace(\"'\", \"\").replace('\"', '')\n",
    "                elif line[0] == 'TIGHTAI_TOKEN':\n",
    "                    token = line[1].strip().replace(\"'\", \"\").replace('\"', '')\n",
    "            self.to_environ(username=username, token=token)\n",
    "            return username, token\n",
    "        return\n",
    "\n",
    "    def remove(self):\n",
    "        if TIGHTAI_LOCAL_CREDENTIALS.exists():\n",
    "            TIGHTAI_LOCAL_CREDENTIALS.unlink()\n",
    "            print(\"Successfully logged out.\")\n",
    "            return \n",
    "        print(\"Not logged in. Do you need to run tightai.login()?\")\n",
    "        return\n",
    "\n",
    "    def to_file(self, username=None, token=None):\n",
    "        if username is None or token is None:\n",
    "            raise Exception(\"Username and Token are required.\")\n",
    "        if TIGHTAI_LOCAL_CREDENTIALS.exists():\n",
    "            TIGHTAI_LOCAL_CREDENTIALS.parent.mkdir(parents=True, exist_ok=True)\n",
    "        with open(TIGHTAI_LOCAL_CREDENTIALS, 'w') as cred_txt:\n",
    "            docstring = f\"[apikey]\\nTIGHTAI_USER='{username}'\\nTIGHTAI_TOKEN='{token}'\"\n",
    "            cred_txt.writelines(docstring)\n",
    "            return True\n",
    "        return None\n",
    "\n",
    "\n",
    "credentials = CredentialHandler()"
   ]
  },
  {
   "cell_type": "code",
   "execution_count": null,
   "metadata": {},
   "outputs": [],
   "source": []
  },
  {
   "cell_type": "code",
   "execution_count": null,
   "metadata": {},
   "outputs": [],
   "source": []
  }
 ],
 "metadata": {
  "kernelspec": {
   "display_name": "Python 3",
   "language": "python",
   "name": "python3"
  }
 },
 "nbformat": 4,
 "nbformat_minor": 4
}

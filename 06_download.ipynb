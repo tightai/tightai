{
 "cells": [
  {
   "cell_type": "code",
   "execution_count": null,
   "metadata": {},
   "outputs": [],
   "source": [
    "# default_exp downloaders"
   ]
  },
  {
   "cell_type": "code",
   "execution_count": null,
   "metadata": {},
   "outputs": [],
   "source": [
    "#export\n",
    "import requests\n",
    "import pathspec\n",
    "import time\n",
    "from pathlib import Path, PurePosixPath\n",
    "from tightai.lookup import Lookup\n",
    "from tightai.conf import CLI_ENDPOINT"
   ]
  },
  {
   "cell_type": "code",
   "execution_count": null,
   "metadata": {},
   "outputs": [],
   "source": [
    "#hide\n",
    "test = False\n",
    "if test:\n",
    "    CLI_ENDPOINT = \"http://cli.desalsa.io:8000\""
   ]
  },
  {
   "cell_type": "code",
   "execution_count": null,
   "metadata": {},
   "outputs": [],
   "source": [
    "#export \n",
    "class DownloadVersion(Lookup):\n",
    "    path = \".\"\n",
    "    dest_path = \".\"\n",
    "    project_id = \"\"\n",
    "    version = \"\"\n",
    "    api = CLI_ENDPOINT\n",
    "\n",
    "    def __init__(self,\n",
    "                 path=\".\",\n",
    "                 project_id=None,\n",
    "                 version=None,\n",
    "                *args, **kwargs):\n",
    "        api = None\n",
    "        if \"api\" in kwargs:\n",
    "            api = kwargs.pop(\"api\")\n",
    "        super().__init__(*args, **kwargs)\n",
    "        if api != None:\n",
    "            self.api = api\n",
    "        assert project_id  != None\n",
    "        if \"v\" in f\"{version}\":\n",
    "            version = version.replace(\"v\", \"\")\n",
    "            try:\n",
    "                version = int(version)\n",
    "            except:\n",
    "                raise Exception(\"Version must be a number or in the format v1, v2, v3, and so on.\")\n",
    "        self.path = Path(path).resolve()\n",
    "        self.version = version\n",
    "        self.project_id = project_id\n",
    "        self.endpoint = f\"{self.api}/projects/{project_id}/versions/{version}/download/\"\n",
    "    \n",
    "    def save_from_url(self, dest, url, force=True):\n",
    "        dest_path = Path(dest)\n",
    "        if not force:\n",
    "            if dest_path.exists():\n",
    "                print(f\"{dest_path} already exists\")\n",
    "                return None\n",
    "        dest_path_parent = dest_path.resolve().parent\n",
    "        dest_path_parent.mkdir(parents=True, exist_ok=True)\n",
    "        # NOTE the stream=True parameter below\n",
    "        with requests.get(url, stream=True) as r:\n",
    "            r.raise_for_status()\n",
    "            with open(dest_path, 'wb') as f:\n",
    "                \n",
    "                for chunk in r.iter_content(chunk_size=8192): \n",
    "                    # If you have chunk encoded response uncomment if\n",
    "                    # and set chunk_size parameter to None.\n",
    "                    #if chunk: \n",
    "                    f.write(chunk)\n",
    "        return dest\n",
    "    \n",
    "    def download(self, overwrite=False):\n",
    "        r = self.http_get(self.endpoint)\n",
    "        self.handle_invalid_lookup(r, expected_status_code=200)\n",
    "        files = r.json()\n",
    "        \n",
    "        for fdict in files:\n",
    "            fname = fdict['fname']\n",
    "            furl = fdict['url']\n",
    "            dest = PurePosixPath(self.path / fname)\n",
    "            print(\"Downloading\", fname, \"to\", dest)\n",
    "            self.save_from_url(dest, furl, force=overwrite)\n",
    "        return"
   ]
  },
  {
   "cell_type": "code",
   "execution_count": null,
   "metadata": {},
   "outputs": [],
   "source": []
  },
  {
   "cell_type": "code",
   "execution_count": null,
   "metadata": {},
   "outputs": [
    {
     "name": "stdout",
     "output_type": "stream",
     "text": [
      "Downloading Pipfile to /Users/jmitch/tight/my-tight-apps/dl-tests/Pipfile\n",
      "Downloading Pipfile.lock to /Users/jmitch/tight/my-tight-apps/dl-tests/Pipfile.lock\n",
      "Downloading __init__.py to /Users/jmitch/tight/my-tight-apps/dl-tests/__init__.py\n",
      "Downloading data/multi.hdf5 to /Users/jmitch/tight/my-tight-apps/dl-tests/data/multi.hdf5\n",
      "Downloading data/tokenizer.pkl to /Users/jmitch/tight/my-tight-apps/dl-tests/data/tokenizer.pkl\n",
      "Downloading entry.py to /Users/jmitch/tight/my-tight-apps/dl-tests/entry.py\n",
      "Downloading ml.py to /Users/jmitch/tight/my-tight-apps/dl-tests/ml.py\n",
      "Downloading news-categories.code-workspace to /Users/jmitch/tight/my-tight-apps/dl-tests/news-categories.code-workspace\n",
      "Downloading requirements.txt to /Users/jmitch/tight/my-tight-apps/dl-tests/requirements.txt\n",
      "Downloading tight.json to /Users/jmitch/tight/my-tight-apps/dl-tests/tight.json\n",
      "Downloading using_keras.txt to /Users/jmitch/tight/my-tight-apps/dl-tests/using_keras.txt\n"
     ]
    }
   ],
   "source": [
    "#hide\n",
    "# path_str = \"/Users/jmitch/tight/my-tight-apps/dl-tests\"\n",
    "# path_str = Path(path_str)\n",
    "\n",
    "# assert path.exists() == True\n",
    "\n",
    "# dl = DownloadVersion(path=path_str, project_id='news-categories', version=1)\n",
    "# dl.download(overwrite=True)"
   ]
  },
  {
   "cell_type": "code",
   "execution_count": null,
   "metadata": {},
   "outputs": [],
   "source": []
  },
  {
   "cell_type": "code",
   "execution_count": null,
   "metadata": {},
   "outputs": [],
   "source": []
  }
 ],
 "metadata": {
  "kernelspec": {
   "display_name": "Python 3",
   "language": "python",
   "name": "python3"
  }
 },
 "nbformat": 4,
 "nbformat_minor": 4
}

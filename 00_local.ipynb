{
 "cells": [
  {
   "cell_type": "code",
   "execution_count": null,
   "metadata": {},
   "outputs": [],
   "source": [
    "# default_exp local"
   ]
  },
  {
   "cell_type": "code",
   "execution_count": null,
   "metadata": {},
   "outputs": [],
   "source": [
    "# !pip install fastapi uvicorn python-multipart"
   ]
  },
  {
   "cell_type": "markdown",
   "metadata": {},
   "source": [
    "# Local Server\n",
    "The local server allows you to emmulate a production server. It's not recommended to use in production but it will allow you to test your project (and versions)."
   ]
  },
  {
   "cell_type": "code",
   "execution_count": null,
   "metadata": {},
   "outputs": [],
   "source": [
    "#export\n",
    "import os\n",
    "import json\n",
    "import importlib.util\n",
    "\n",
    "import argparse\n",
    "\n",
    "try:\n",
    "    import fastapi\n",
    "except:\n",
    "    raise Exception(f\"Dependancies missing.To use the tightai.local dev server, please install:\\n\\npip install fastapi uvicorn python-multipart\\n\\nor\\n\\npipenv install fastapi uvicorn python-multipart\")\n",
    "\n",
    "from fastapi import FastAPI, Body, File, UploadFile, Response, status\n",
    "from starlette.requests import Request\n",
    "from typing import List\n",
    "from urllib.parse import parse_qs\n",
    "from pathlib import Path\n",
    "import uvicorn\n",
    "\n",
    "global app_run\n",
    "\n",
    "def load_run_handler(base_dir):\n",
    "    global app_run\n",
    "    entry_file='entry.py'\n",
    "    base_dir = Path(base_dir)\n",
    "    if base_dir.is_file():\n",
    "        raise Exception(f\"{base_dir} must be a directory\")\n",
    "    path = Path(base_dir) / entry_file\n",
    "    if not path.exists() and not path.is_file():\n",
    "        raise Exception(f\"{path} not found. You must have `entry.py` in the root of your project.\")\n",
    "    spec = importlib.util.spec_from_file_location(\"entry\", path)\n",
    "    entry_module = importlib.util.module_from_spec(spec)\n",
    "    try:\n",
    "        spec.loader.exec_module(entry_module)\n",
    "    except ModuleNotFoundError as e:\n",
    "        # print(e.name, e.args)\n",
    "        print(f\"The package `{e.name}` is not found in your project's local path.\\n\\nIs it installed? \\nDid you activate your virtual environment?\\n\\nAre you running the tight localserver in the root of your project?\")\n",
    "        return\n",
    "    app_run = entry_module.run"
   ]
  },
  {
   "cell_type": "code",
   "execution_count": null,
   "metadata": {},
   "outputs": [],
   "source": [
    "#export \n",
    "server_app = FastAPI()\n",
    "\n",
    "@server_app.get(\"{path:path}\")\n",
    "@server_app.post(\"{path:path}\")\n",
    "@server_app.put(\"{path:path}\")\n",
    "@server_app.delete(\"{path:path}\")\n",
    "async def read_root(path: str, \n",
    "        request: Request, \n",
    "        response: Response\n",
    "    ):\n",
    "    headers = request.headers\n",
    "    query_params = parse_qs(str(request.query_params))\n",
    "    method = request.method\n",
    "    json_data = {}\n",
    "    try:\n",
    "        json_data = await request.json()\n",
    "    except:\n",
    "        pass\n",
    "    form = await request.form()\n",
    "    form_data = {}\n",
    "    file = None\n",
    "    metadata = {}\n",
    "    if form != None:\n",
    "        form_data = dict(form)\n",
    "        if 'file' in form_data:\n",
    "            file = form['file'].file.read()\n",
    "            metadata['filename'] = form['file'].filename\n",
    "            metadata['file_size'] = len(file)\n",
    "            del form_data['file']\n",
    "    app_run_data = {\n",
    "        \"json_data\": json_data,\n",
    "        \"query_params\": query_params,\n",
    "        \"path\": path,\n",
    "        \"form_data\": form_data,\n",
    "        \"file\": file,\n",
    "        \"headers\": headers,\n",
    "        \"method\": method,\n",
    "        \"metadata\": metadata\n",
    "    }\n",
    "    try:\n",
    "        app_response =  app_run(**app_run_data)\n",
    "    except:\n",
    "        app_response = {\n",
    "            \"status\": 500,\n",
    "            \"message\": \"An error occured with your application.\"\n",
    "        }\n",
    "    if \"status\" in app_response:\n",
    "        status = app_response['status']\n",
    "        response.status_code = status\n",
    "        del app_response['status']\n",
    "    return app_response"
   ]
  },
  {
   "cell_type": "code",
   "execution_count": null,
   "metadata": {},
   "outputs": [],
   "source": [
    "#export\n",
    "def parse_cli_args():\n",
    "    parser = argparse.ArgumentParser(description='Process some integers.')\n",
    "    parser.add_argument('--port', type=int, default=5007, help='Default port for the local development server')\n",
    "    parser.add_argument(\n",
    "        \"--dir\",\n",
    "        type=Path,\n",
    "        default=Path(\".\"),\n",
    "        help=\"Directory path to the the location for your `entry.py` module; typically in the root of your project.\",\n",
    "    )\n",
    "    path = Path(\".\")\n",
    "    port = 5007\n",
    "    try:\n",
    "        args = parser.parse_args()\n",
    "        path = args.dir\n",
    "        port = args.port\n",
    "    except:\n",
    "        pass\n",
    "    return path, port\n",
    "\n",
    "def local_server(path=\".\", port='5007'):\n",
    "    load_run_handler(path)\n",
    "    uvicorn.run(server_app, host=\"localhost\", port=port)"
   ]
  },
  {
   "cell_type": "code",
   "execution_count": null,
   "metadata": {},
   "outputs": [
    {
     "name": "stderr",
     "output_type": "stream",
     "text": [
      "usage: ipykernel_launcher.py [-h] [--port PORT] [--dir DIR]\n",
      "ipykernel_launcher.py: error: unrecognized arguments: -f /Users/jmitch/Library/Jupyter/runtime/kernel-a2f2944a-9bc0-4481-a8d1-c510c713c7f1.json\n"
     ]
    },
    {
     "ename": "Exception",
     "evalue": "entry.py not found. You must have `entry.py` in the root of your project.",
     "output_type": "error",
     "traceback": [
      "\u001b[0;31m---------------------------------------------------------------------------\u001b[0m",
      "\u001b[0;31mException\u001b[0m                                 Traceback (most recent call last)",
      "\u001b[0;32m<ipython-input-20-931535adf6b8>\u001b[0m in \u001b[0;36m<module>\u001b[0;34m\u001b[0m\n\u001b[1;32m      3\u001b[0m     \u001b[0mpath\u001b[0m\u001b[0;34m,\u001b[0m \u001b[0mport\u001b[0m \u001b[0;34m=\u001b[0m \u001b[0mparse_cli_args\u001b[0m\u001b[0;34m(\u001b[0m\u001b[0;34m)\u001b[0m\u001b[0;34m\u001b[0m\u001b[0;34m\u001b[0m\u001b[0m\n\u001b[1;32m      4\u001b[0m     \u001b[0;32mif\u001b[0m \u001b[0mpath\u001b[0m \u001b[0;32mand\u001b[0m \u001b[0mport\u001b[0m\u001b[0;34m:\u001b[0m\u001b[0;34m\u001b[0m\u001b[0;34m\u001b[0m\u001b[0m\n\u001b[0;32m----> 5\u001b[0;31m         \u001b[0mlocal_server\u001b[0m\u001b[0;34m(\u001b[0m\u001b[0mpath\u001b[0m\u001b[0;34m=\u001b[0m\u001b[0mpath\u001b[0m\u001b[0;34m,\u001b[0m \u001b[0mport\u001b[0m\u001b[0;34m=\u001b[0m\u001b[0mport\u001b[0m\u001b[0;34m)\u001b[0m\u001b[0;34m\u001b[0m\u001b[0;34m\u001b[0m\u001b[0m\n\u001b[0m",
      "\u001b[0;32m<ipython-input-19-d2a9016d4d8f>\u001b[0m in \u001b[0;36mlocal_server\u001b[0;34m(path, port)\u001b[0m\n\u001b[1;32m     20\u001b[0m \u001b[0;34m\u001b[0m\u001b[0m\n\u001b[1;32m     21\u001b[0m \u001b[0;32mdef\u001b[0m \u001b[0mlocal_server\u001b[0m\u001b[0;34m(\u001b[0m\u001b[0mpath\u001b[0m\u001b[0;34m=\u001b[0m\u001b[0;34m\".\"\u001b[0m\u001b[0;34m,\u001b[0m \u001b[0mport\u001b[0m\u001b[0;34m=\u001b[0m\u001b[0;34m'5007'\u001b[0m\u001b[0;34m)\u001b[0m\u001b[0;34m:\u001b[0m\u001b[0;34m\u001b[0m\u001b[0;34m\u001b[0m\u001b[0m\n\u001b[0;32m---> 22\u001b[0;31m     \u001b[0mload_run_handler\u001b[0m\u001b[0;34m(\u001b[0m\u001b[0mpath\u001b[0m\u001b[0;34m)\u001b[0m\u001b[0;34m\u001b[0m\u001b[0;34m\u001b[0m\u001b[0m\n\u001b[0m\u001b[1;32m     23\u001b[0m     \u001b[0muvicorn\u001b[0m\u001b[0;34m.\u001b[0m\u001b[0mrun\u001b[0m\u001b[0;34m(\u001b[0m\u001b[0mserver_app\u001b[0m\u001b[0;34m,\u001b[0m \u001b[0mhost\u001b[0m\u001b[0;34m=\u001b[0m\u001b[0;34m\"0.0.0.0\"\u001b[0m\u001b[0;34m,\u001b[0m \u001b[0mport\u001b[0m\u001b[0;34m=\u001b[0m\u001b[0mport\u001b[0m\u001b[0;34m)\u001b[0m\u001b[0;34m\u001b[0m\u001b[0;34m\u001b[0m\u001b[0m\n",
      "\u001b[0;32m<ipython-input-17-c4ccbd872fc0>\u001b[0m in \u001b[0;36mload_run_handler\u001b[0;34m(base_dir)\u001b[0m\n\u001b[1;32m     28\u001b[0m     \u001b[0mpath\u001b[0m \u001b[0;34m=\u001b[0m \u001b[0mPath\u001b[0m\u001b[0;34m(\u001b[0m\u001b[0mbase_dir\u001b[0m\u001b[0;34m)\u001b[0m \u001b[0;34m/\u001b[0m \u001b[0mentry_file\u001b[0m\u001b[0;34m\u001b[0m\u001b[0;34m\u001b[0m\u001b[0m\n\u001b[1;32m     29\u001b[0m     \u001b[0;32mif\u001b[0m \u001b[0;32mnot\u001b[0m \u001b[0mpath\u001b[0m\u001b[0;34m.\u001b[0m\u001b[0mexists\u001b[0m\u001b[0;34m(\u001b[0m\u001b[0;34m)\u001b[0m \u001b[0;32mand\u001b[0m \u001b[0;32mnot\u001b[0m \u001b[0mpath\u001b[0m\u001b[0;34m.\u001b[0m\u001b[0mis_file\u001b[0m\u001b[0;34m(\u001b[0m\u001b[0;34m)\u001b[0m\u001b[0;34m:\u001b[0m\u001b[0;34m\u001b[0m\u001b[0;34m\u001b[0m\u001b[0m\n\u001b[0;32m---> 30\u001b[0;31m         \u001b[0;32mraise\u001b[0m \u001b[0mException\u001b[0m\u001b[0;34m(\u001b[0m\u001b[0;34mf\"{path} not found. You must have `entry.py` in the root of your project.\"\u001b[0m\u001b[0;34m)\u001b[0m\u001b[0;34m\u001b[0m\u001b[0;34m\u001b[0m\u001b[0m\n\u001b[0m\u001b[1;32m     31\u001b[0m     \u001b[0mspec\u001b[0m \u001b[0;34m=\u001b[0m \u001b[0mimportlib\u001b[0m\u001b[0;34m.\u001b[0m\u001b[0mutil\u001b[0m\u001b[0;34m.\u001b[0m\u001b[0mspec_from_file_location\u001b[0m\u001b[0;34m(\u001b[0m\u001b[0;34m\"entry\"\u001b[0m\u001b[0;34m,\u001b[0m \u001b[0mpath\u001b[0m\u001b[0;34m)\u001b[0m\u001b[0;34m\u001b[0m\u001b[0;34m\u001b[0m\u001b[0m\n\u001b[1;32m     32\u001b[0m     \u001b[0mentry_module\u001b[0m \u001b[0;34m=\u001b[0m \u001b[0mimportlib\u001b[0m\u001b[0;34m.\u001b[0m\u001b[0mutil\u001b[0m\u001b[0;34m.\u001b[0m\u001b[0mmodule_from_spec\u001b[0m\u001b[0;34m(\u001b[0m\u001b[0mspec\u001b[0m\u001b[0;34m)\u001b[0m\u001b[0;34m\u001b[0m\u001b[0;34m\u001b[0m\u001b[0m\n",
      "\u001b[0;31mException\u001b[0m: entry.py not found. You must have `entry.py` in the root of your project."
     ]
    }
   ],
   "source": [
    "#export \n",
    "if __name__ == \"__main__\":\n",
    "    path, port = parse_cli_args()\n",
    "    if path and port:\n",
    "        local_server(path=path, port=port)"
   ]
  },
  {
   "cell_type": "code",
   "execution_count": null,
   "metadata": {},
   "outputs": [],
   "source": []
  },
  {
   "cell_type": "code",
   "execution_count": null,
   "metadata": {},
   "outputs": [],
   "source": []
  },
  {
   "cell_type": "code",
   "execution_count": null,
   "metadata": {},
   "outputs": [],
   "source": []
  }
 ],
 "metadata": {
  "kernelspec": {
   "display_name": "Python 3",
   "language": "python",
   "name": "python3"
  }
 },
 "nbformat": 4,
 "nbformat_minor": 4
}

{
 "cells": [
  {
   "cell_type": "code",
   "execution_count": null,
   "metadata": {},
   "outputs": [],
   "source": [
    "#hide\n",
    "from tightai.core import *"
   ]
  },
  {
   "cell_type": "markdown",
   "metadata": {},
   "source": [
    "# Tight.ai SDK\n",
    "\n",
    "> Serverless Model Hosting & Model Marketplace"
   ]
  },
  {
   "cell_type": "markdown",
   "metadata": {},
   "source": [
    "## Install"
   ]
  },
  {
   "cell_type": "markdown",
   "metadata": {},
   "source": [
    "`pip install tightai`"
   ]
  },
  {
   "cell_type": "markdown",
   "metadata": {},
   "source": [
    "## Getting Started"
   ]
  },
  {
   "cell_type": "markdown",
   "metadata": {},
   "source": [
    "### Sign up\n",
    "- Go to [https://www.tight.ai/signup](https://www.tight.ai/signup)"
   ]
  },
  {
   "cell_type": "markdown",
   "metadata": {},
   "source": [
    "## Authenticate\n",
    "### Via Login\n",
    "\n",
    "This will prompt you for your username (or email) and password you used to sign up on tight.ai. Your local system will store unique credentials (never your account password) so your machine can re-access your account at anytime.\n",
    "\n",
    "_Python Shell_\n",
    "```python\n",
    "from tightai.auth import login\n",
    "login()\n",
    "```\n",
    "\n",
    "_Command Line_ \n",
    "\n",
    "```\n",
    "$ tight login\n",
    "```\n",
    "\n",
    "### Via Token\n",
    "Tokens are simple to create and very useful when needing to authenticate in a different way.\n",
    "\n",
    "> Coming soon."
   ]
  },
  {
   "cell_type": "markdown",
   "metadata": {},
   "source": []
  },
  {
   "cell_type": "code",
   "execution_count": null,
   "metadata": {},
   "outputs": [],
   "source": []
  },
  {
   "cell_type": "code",
   "execution_count": null,
   "metadata": {},
   "outputs": [],
   "source": []
  }
 ],
 "metadata": {
  "kernelspec": {
   "display_name": "Python 3",
   "language": "python",
   "name": "python3"
  }
 },
 "nbformat": 4,
 "nbformat_minor": 2
}

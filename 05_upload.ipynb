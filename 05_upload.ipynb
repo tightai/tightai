{
 "cells": [
  {
   "cell_type": "code",
   "execution_count": null,
   "metadata": {},
   "outputs": [],
   "source": [
    "# default_exp upload"
   ]
  },
  {
   "cell_type": "code",
   "execution_count": null,
   "metadata": {},
   "outputs": [],
   "source": [
    "#export\n",
    "import requests\n",
    "import pathspec\n",
    "import time\n",
    "from pathlib import Path, PurePosixPath\n",
    "from tightai.lookup import Lookup\n",
    "from tightai.conf import CLI_ENDPOINT"
   ]
  },
  {
   "cell_type": "code",
   "execution_count": null,
   "metadata": {},
   "outputs": [],
   "source": []
  },
  {
   "cell_type": "code",
   "execution_count": null,
   "metadata": {},
   "outputs": [],
   "source": [
    "# live = True\n",
    "# custom_domain = True\n",
    "# base = \"http://cli.desalsa.io:8000/project/version/upload/sign\"\n",
    "# if live:\n",
    "#     # base = \"https://tightai-build-kuxyktidla-uw.a.run.app\"\n",
    "#     if custom_domain:\n",
    "#         base = \"https://cli.tight.ai/project/version/upload/sign\"\n",
    "# BASE_API_ENDPOINT = base"
   ]
  },
  {
   "cell_type": "code",
   "execution_count": null,
   "metadata": {},
   "outputs": [],
   "source": []
  },
  {
   "cell_type": "code",
   "execution_count": null,
   "metadata": {},
   "outputs": [],
   "source": [
    "#export\n",
    "class Uploader(Lookup):\n",
    "    path = \".\"\n",
    "    project_id = \"\"\n",
    "    version = \"\"\n",
    "    api = CLI_ENDPOINT\n",
    "    api_path = \"/project/version/upload/sign\"\n",
    "\n",
    "    def __init__(self,\n",
    "                 path,\n",
    "                 project_id=None,\n",
    "                 version=None,\n",
    "                *args, **kwargs):\n",
    "        api = None\n",
    "        if \"api\" in kwargs:\n",
    "            api = kwargs.pop(\"api\")\n",
    "        super().__init__(*args, **kwargs)\n",
    "        if api != None:\n",
    "            self.api = api\n",
    "        upload_path = Path(path)\n",
    "        if not upload_path.exists():\n",
    "            raise Exception(f\"{upload_path} is not a valid path on your system. Please try again\")\n",
    "        self.path = upload_path\n",
    "        \n",
    "        self.endpoint = f\"{self.api}{self.api_path}\"\n",
    "        if \"v\" in f\"{version}\":\n",
    "            version = version.replace(\"v\", \"\")\n",
    "            try:\n",
    "                version = int(version)\n",
    "            except:\n",
    "                raise Exception(\"Version must be a number or in the format v1, v2, v3, and so on.\")\n",
    "        self.version = version\n",
    "        self.project_id = project_id\n",
    "\n",
    "    def get_tightignore_paths(self):\n",
    "        current_dir = Path(self.path)\n",
    "        tightignore = current_dir / \".tightignore\"\n",
    "        if not tightignore.exists():\n",
    "            return []\n",
    "        with open(tightignore, 'r') as fh:\n",
    "            spec = pathspec.PathSpec.from_lines('gitwildmatch', fh.readlines())\n",
    "            matches = spec.match_tree(self.path)\n",
    "            match_list = []\n",
    "            for m in matches:\n",
    "                match_path = str(PurePosixPath(Path(m)))\n",
    "                match_list.append(match_path)\n",
    "            return match_list\n",
    "\n",
    "    def destination_path(self, relative_path):\n",
    "        relative_path = relative_path.replace(\"\\\\\", \"/\")\n",
    "        return f\"{self.project_id}/v{self.version}/app/{relative_path}\"\n",
    "\n",
    "    def sign_dir(self):\n",
    "        path = self.path\n",
    "        default_glob = path.rglob(\"*\")\n",
    "        ignore_paths = self.get_tightignore_paths()\n",
    "        dir_files = [x for x in default_glob if x.is_file()]\n",
    "        dir_file_paths = [str(PurePosixPath(x.relative_to(path))) for x in dir_files]\n",
    "        final_paths = [x for x in dir_file_paths if x not in ignore_paths]\n",
    "        destination_paths = [self.destination_path(x) for x in final_paths]\n",
    "        return destination_paths, final_paths\n",
    "\n",
    "    def upload(self, verbose=0, dry_run=False, dry_sign=False):\n",
    "        if verbose == 1:\n",
    "            print(\"Uploading...\")\n",
    "        files_uploaded_count = 0\n",
    "        destination_paths, local_files = self.sign_dir()\n",
    "        data = {\n",
    "            \"files\": destination_paths,\n",
    "            \"project_id\": self.project_id,\n",
    "            \"version\": self.version\n",
    "        }\n",
    "        if dry_run:\n",
    "            for f in local_files:\n",
    "                files_uploaded_count += 1\n",
    "                dest_path = self.destination_path(f)\n",
    "                _dir = Path(self.path)\n",
    "                f_path = _dir / f\n",
    "                print(\"Dry run uploading... \", f_path)\n",
    "                time.sleep(0.8)\n",
    "                print('..done')\n",
    "        else:\n",
    "            # sign_r = requests.post(self.endpoint, json=data)\n",
    "            sign_r = self.http_post(self.endpoint, data=data)\n",
    "            self.handle_invalid_lookup(sign_r, expected_status_code=200)\n",
    "            signed_response = sign_r.json()\n",
    "            keys = list(signed_response.keys())\n",
    "            if len(keys) != 2:\n",
    "                raise Exception(\"Upload failed. Please contact us for furhter information. Code 3122-3129091389892\")\n",
    "            signed_data = dict(zip(signed_response[\"files\"], signed_response[\"signed\"]))\n",
    "            for f in local_files:\n",
    "                dest_path = self.destination_path(f)\n",
    "                signed_url = signed_data[dest_path]\n",
    "                _dir = Path(self.path)\n",
    "                f_path = _dir / f\n",
    "                print(\"Uploading\", f, '...')\n",
    "                r2 = requests.post(signed_url, files={'file': open(f_path, 'rb')})\n",
    "                if r2.status_code == 204:\n",
    "                    files_uploaded_count += 1\n",
    "                else:\n",
    "                    if verbose == 1:\n",
    "                        print(f, 'was not uploaded successfully')\n",
    "        print(f\"{files_uploaded_count} files uploaded.\")\n",
    "        return files_uploaded_count"
   ]
  },
  {
   "cell_type": "code",
   "execution_count": null,
   "metadata": {},
   "outputs": [],
   "source": [
    "project_id = 'mr-cli-test'\n",
    "version = 2\n",
    "\n",
    "tighten_up = Uploader(path='/Users/jmitch/tight/my-tight-apps/spam-sms', project_id=project_id, version=version)"
   ]
  },
  {
   "cell_type": "code",
   "execution_count": null,
   "metadata": {},
   "outputs": [
    {
     "name": "stdout",
     "output_type": "stream",
     "text": [
      "uploading /Users/jmitch/tight/my-tight-apps/spam-sms/requirements.txt\n",
      "requirements.txt was uploaded successfully\n",
      "uploading /Users/jmitch/tight/my-tight-apps/spam-sms/__init__.py\n",
      "__init__.py was uploaded successfully\n",
      "uploading /Users/jmitch/tight/my-tight-apps/spam-sms/Pipfile\n",
      "Pipfile was uploaded successfully\n",
      "uploading /Users/jmitch/tight/my-tight-apps/spam-sms/entry.py\n",
      "entry.py was uploaded successfully\n",
      "uploading /Users/jmitch/tight/my-tight-apps/spam-sms/Pipfile.lock\n",
      "Pipfile.lock was uploaded successfully\n",
      "uploading /Users/jmitch/tight/my-tight-apps/spam-sms/data/multi.hdf5\n",
      "data/multi.hdf5 was uploaded successfully\n",
      "uploading /Users/jmitch/tight/my-tight-apps/spam-sms/data/tokenizer.pkl\n",
      "data/tokenizer.pkl was uploaded successfully\n",
      "7 files uploaded.\n"
     ]
    },
    {
     "data": {
      "text/plain": [
       "7"
      ]
     },
     "execution_count": null,
     "metadata": {},
     "output_type": "execute_result"
    }
   ],
   "source": [
    "tighten_up.upload(verbose=0, dry_run=True)"
   ]
  },
  {
   "cell_type": "code",
   "execution_count": null,
   "metadata": {},
   "outputs": [],
   "source": [
    "def destination_path(self, relative_path):\n",
    "        relative_path = relative_path.replace(\"\\\\\", \"/\")\n",
    "        return f\"{self.project_id}/v{self.version}/app/{relative_path}\""
   ]
  },
  {
   "cell_type": "code",
   "execution_count": null,
   "metadata": {},
   "outputs": [
    {
     "name": "stdout",
     "output_type": "stream",
     "text": [
      "data\\tokenizer.pl\n"
     ]
    }
   ],
   "source": [
    "import pathlib\n",
    "from pathlib import Path, PurePosixPath, PureWindowsPath\n",
    "import os\n",
    "\n",
    "\n",
    "relative_path = pathlib.Path(\"data\\\\tokenizer.pl\")\n",
    "# relative_path = Path(\"C:\\data\\\\tokenizer.pl\")\n",
    "relative_path = PurePosixPath(up =relative_path) # .replace(os.sep, ntpath.sep)\n",
    "# relative_path = relative_path.replace(\"\\\\\", \"/\")\n",
    "# relative_path.as_posix()\n",
    "# relative_path.as_posix()\n",
    "print(relative_path)"
   ]
  },
  {
   "cell_type": "code",
   "execution_count": null,
   "metadata": {},
   "outputs": [],
   "source": []
  }
 ],
 "metadata": {
  "kernelspec": {
   "display_name": "Python 3",
   "language": "python",
   "name": "python3"
  }
 },
 "nbformat": 4,
 "nbformat_minor": 4
}

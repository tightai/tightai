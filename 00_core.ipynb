{
 "cells": [
  {
   "cell_type": "code",
   "execution_count": null,
   "metadata": {},
   "outputs": [
    {
     "name": "stdout",
     "output_type": "stream",
     "text": [
      "Converted 00_conf.ipynb.\n",
      "Converted 00_core.ipynb.\n",
      "Converted 01_handlers.ipynb.\n",
      "Converted 02_exceptions.ipynb.\n",
      "Converted 03_auth.ipynb.\n",
      "Converted 04_lookup.py.ipynb.\n",
      "Converted 05_upload.ipynb.\n",
      "Converted 06_projects.ipynb.\n",
      "Converted 07_local.ipynb.\n",
      "Converted 07b_local.ipynb.\n",
      "Converted 10_utils.ipynb.\n",
      "Converted 11_cli.ipynb.\n",
      "Converted ToDo.ipynb.\n",
      "Converted index.ipynb.\n"
     ]
    }
   ],
   "source": [
    "from nbdev.export import *\n",
    "notebook2script()"
   ]
  },
  {
   "cell_type": "code",
   "execution_count": null,
   "metadata": {},
   "outputs": [],
   "source": [
    "# default_exp core"
   ]
  },
  {
   "cell_type": "markdown",
   "metadata": {},
   "source": [
    "# tight.ai sdk\n",
    "\n",
    "> Deploy your tight.ai models as serverless rest api endpoints with only a few lines of code."
   ]
  },
  {
   "cell_type": "code",
   "execution_count": null,
   "metadata": {},
   "outputs": [],
   "source": [
    "#hide\n",
    "from nbdev.showdoc import *"
   ]
  },
  {
   "cell_type": "code",
   "execution_count": null,
   "metadata": {},
   "outputs": [
    {
     "data": {
      "text/plain": [
       "'python $tightlocal --port 5007 --dir .'"
      ]
     },
     "execution_count": null,
     "metadata": {},
     "output_type": "execute_result"
    }
   ],
   "source": [
    "#hide\n",
    "import os\n",
    "pkg = f\"python $tightlocal --port 5007 --dir .\"\n",
    "pkg"
   ]
  },
  {
   "cell_type": "code",
   "execution_count": null,
   "metadata": {},
   "outputs": [],
   "source": []
  }
 ],
 "metadata": {
  "kernelspec": {
   "display_name": "Python 3",
   "language": "python",
   "name": "python3"
  }
 },
 "nbformat": 4,
 "nbformat_minor": 2
}

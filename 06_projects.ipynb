{
 "cells": [
  {
   "cell_type": "code",
   "execution_count": null,
   "metadata": {},
   "outputs": [],
   "source": [
    "# default_exp projects"
   ]
  },
  {
   "cell_type": "markdown",
   "metadata": {},
   "source": [
    "# Projects\n",
    "\n",
    "Tight.ai projects are essentially your ML models as production-ready cloud services. \n",
    "\n",
    "Projects are serverless machine learning applications as REST API endpoints made for scalability, high availability, and improvement simplicity.\n",
    "\n",
    "Serverless means you pay for what you use, when you use it thus drastically reducing the cost of every serverless app you have in production."
   ]
  },
  {
   "cell_type": "code",
   "execution_count": null,
   "metadata": {},
   "outputs": [],
   "source": [
    "#hide\n",
    "# !pip install python-slugify"
   ]
  },
  {
   "cell_type": "code",
   "execution_count": null,
   "metadata": {},
   "outputs": [],
   "source": []
  },
  {
   "cell_type": "code",
   "execution_count": null,
   "metadata": {},
   "outputs": [],
   "source": [
    "#export\n",
    "import time\n",
    "import urllib.parse\n",
    "import webbrowser\n",
    "from pathlib import Path\n",
    "from slugify import slugify\n",
    "from tightai import exceptions\n",
    "from tightai.exceptions import ArgumentsRequired\n",
    "from tightai.lookup import Lookup\n",
    "from tightai.base import BaseObject, base_tightignore\n",
    "from tightai.conf import CLI_ENDPOINT\n",
    "from tightai.user import UserObject\n",
    "from tightai.upload import Uploader\n",
    "from tightai.utils import sort_by_key, print_dict"
   ]
  },
  {
   "cell_type": "code",
   "execution_count": null,
   "metadata": {},
   "outputs": [],
   "source": [
    "#hide\n",
    "test = True\n",
    "if test:\n",
    "    CLI_ENDPOINT = \"http://cli.desalsa.io:8000\""
   ]
  },
  {
   "cell_type": "code",
   "execution_count": null,
   "metadata": {},
   "outputs": [],
   "source": [
    "#export\n",
    "class VersionManager(Lookup, BaseObject):\n",
    "    api = CLI_ENDPOINT\n",
    "    version = None\n",
    "    project_id = None\n",
    "    \n",
    "    def __str__(self):\n",
    "        return f\"<VersionManager>\"\n",
    "    \n",
    "    def __repr__(self):\n",
    "        return self.__str__()\n",
    "    \n",
    "    def create(self, project_id=None, raw=False, **kwargs):\n",
    "        if project_id == None:\n",
    "            raise ArgumentsRequired(\"project_id\")\n",
    "        r = self.http_post(f\"/projects/{project_id}/versions/\", data=kwargs)\n",
    "        if raw:\n",
    "            return r\n",
    "        self.handle_invalid_lookup(r, expected_status_code=201)\n",
    "        return Version(**r.json())\n",
    "    \n",
    "    def get(self, version=None, project_id=None, raw=False):\n",
    "        if project_id == None or version == None:\n",
    "            raise ArgumentsRequired(\"version\", \"project_id\")\n",
    "        r = self.http_get(f\"/projects/{project_id}/versions/{version}\")\n",
    "        if raw:\n",
    "            return r\n",
    "        self.handle_invalid_lookup(r, expected_status_code=200)\n",
    "        return Version(**r.json())\n",
    "    \n",
    "    def latest(self, project_id=None, none_on_404=False, deployed=False):\n",
    "        if project_id == None:\n",
    "            raise ArgumentsRequired(\"project_id\")\n",
    "        deployed_str = f\"{deployed}\".lower()\n",
    "        r = self.http_get(f\"/projects/{project_id}/latest/?deployed={deployed_str}\")\n",
    "        if deployed == True:\n",
    "            none_on_404 = True\n",
    "        if r.status_code == 404 and none_on_404:\n",
    "            return None\n",
    "        self.handle_invalid_lookup(r, expected_status_code=200)\n",
    "        return Version(**r.json())\n",
    "    \n",
    "    def all(self, project_id=None, **kwargs):\n",
    "        if project_id == None:\n",
    "            raise ArgumentsRequired(\"project_id\")\n",
    "        endpoint = f\"/projects/{project_id}/versions/\"\n",
    "        if len(kwargs.keys()):\n",
    "            query_string = urllib.parse.urlencode(kwargs)\n",
    "            endpoint = f\"{endpoint}?{query_string}\"            \n",
    "        r = self.http_get(endpoint)\n",
    "        self.handle_invalid_lookup(r, expected_status_code=200)\n",
    "        return [Version(**x) for x in r.json()['results']]\n",
    "\n",
    "    def get_or_create(self, **kwargs):\n",
    "        created = False\n",
    "        version = None\n",
    "        try:\n",
    "            existing_r = self.get(**kwargs)\n",
    "        except:\n",
    "            existing_r = None\n",
    "        if existing_r != None:\n",
    "            return existing_r, created\n",
    "        new_v = self.create(**kwargs)\n",
    "        created = True\n",
    "        return new_v, created\n",
    "    \n",
    "\n",
    "class Version(Lookup, BaseObject):\n",
    "    version = None\n",
    "    project_id = None\n",
    "    trigger_options = ['status', 'build', 'build_and_deploy', 'deploy', 'destroy']\n",
    "    display_options = ['project_id', 'version', 'description', 'url', 'deployed', \n",
    "                       'deployed_timestamp', 'destroyed', 'destroyed_timestamp', 'updated', 'timestamp']\n",
    "    \n",
    "    def __str__(self):\n",
    "        return f\"<Version {self.version} ({self.project_id})>\"\n",
    "    \n",
    "    objects = VersionManager()\n",
    "    \n",
    "    def build(self):\n",
    "        return self.update_trigger(option='build')\n",
    "    \n",
    "    def delete(self):\n",
    "        confirmation_code = f\"{self.project_id}-v{self.version}\"\n",
    "        response = input(f\"Deleting is cannot be reversed. Please confirm by typing:\\n\\n{confirmation_code}\\n\\n\")\n",
    "        if f\"{response}\".strip() != confirmation_code:\n",
    "            print(f\"\\nDelete failed. {response} did not match {confirmation_code} exactly.\")\n",
    "            return \n",
    "        r = self.http_delete(f\"/projects/{self.project_id}/versions/{self.version}\")\n",
    "        self.handle_invalid_lookup(r, expected_status_code=204)\n",
    "        setattr(self, 'deleted', True)\n",
    "        return r\n",
    "    \n",
    "    def summary(self, verbose=0):\n",
    "        data = {\n",
    "            \"version\": self.version,\n",
    "            \"project_id\": self.project_id,\n",
    "            \"url\": self.url,\n",
    "            \"deployed\": self.deployed,\n",
    "            \"updated\": self.updated\n",
    "        }\n",
    "        if verbose == 1:\n",
    "            print_dict(data)\n",
    "        return data\n",
    "    \n",
    "    def deploy(self):\n",
    "        raise Exception(\"Use `.push(local_path)` to deploy instead.\")\n",
    "    \n",
    "    def destroy(self):\n",
    "        return self.update_trigger(option='destroy')\n",
    "    \n",
    "    def upload(self, path, verbose=True):\n",
    "        src_path = Path(path)\n",
    "        tightai_ignore = src_path / \".tightignore\"\n",
    "        if not tightai_ignore.exists():\n",
    "            print(\"No .tightignore found. Creating default.\")\n",
    "            with open(str(tightai_ignore), \"w\") as f:\n",
    "                f.writelines(base_tightignore)\n",
    "        uploader = Uploader(path=path, project_id=self.project_id, version=self.version)\n",
    "        uploaded_count = uploader.upload(verbose=verbose)\n",
    "        return uploaded_count\n",
    "    \n",
    "    def status(self, wait=True, display=True):\n",
    "        endpoint = f\"/projects/{self.project_id}/versions/{self.version}/status/\"\n",
    "        r = self.http_post(endpoint, data={})\n",
    "        if r.status_code != 200:\n",
    "            raise Exception(\"Could not find status at this time.\")\n",
    "        r_data = r.json()\n",
    "        for k,v in r_data.items():\n",
    "            setattr(self, k, v)\n",
    "        verbose = 1\n",
    "        if display == False:\n",
    "            verbose = 0\n",
    "        return self.details(verbose=verbose)\n",
    "    \n",
    "    def refresh(self):\n",
    "        version = self.objects.get(version=self.version, project_id=self.project_id)\n",
    "        for k,v in version.__dict__.items():\n",
    "            setattr(self, k, v)\n",
    "        return version.details()\n",
    "    \n",
    "    def push(self, path, check_status=True):\n",
    "        project_id = self.project_id\n",
    "        version = self.version\n",
    "        uploaded_count = self.upload(path, verbose=True)\n",
    "        if uploaded_count == 0:\n",
    "            print(f\"Uploaded 0 files. Continuing\")\n",
    "        print(\"Deploying...\")\n",
    "        deploy_r = self.update_trigger(option='build_and_deploy')\n",
    "        if deploy_r.status_code != 200:\n",
    "            raise Exception(\"Project not deployed. Please try again.\")\n",
    "        if not check_status:\n",
    "            print(f\"{project_id} {version} pushed. Use `.status()` to check deployment status.\")\n",
    "            return None\n",
    "        details = self.status(wait=True)\n",
    "        url = details.get('url')\n",
    "        if not url:\n",
    "            print(\"URL is not ready yet. Use `.status()` to check deployment status.\")\n",
    "            return None\n",
    "        setattr(self, 'url', url)\n",
    "        return url\n",
    "    \n",
    "    def update_trigger(self, option='status'):\n",
    "        if option not in self.trigger_options:\n",
    "            print(f\"{option} is invalid. Please try again.\")\n",
    "            option = 'status'\n",
    "        data = {\n",
    "            'trigger_active': True,\n",
    "            'trigger': f\"{option}\",\n",
    "        }\n",
    "        r = self.http_put(f\"/projects/{self.project_id}/versions/{self.version}\", data=data)\n",
    "        self.handle_invalid_lookup(r, expected_status_code=200)\n",
    "        self.update_from_response(r)\n",
    "        return r\n",
    "    \n",
    "    def update_from_response(self, response, display=False):\n",
    "        for k, v in response.json().items():\n",
    "            if display:\n",
    "                print(f\"{k}\")\n",
    "            current_v = getattr(self, k)\n",
    "            if v != None and current_v != v:\n",
    "                setattr(self, k, v)\n",
    "        return\n",
    "    \n",
    "    def open(self):\n",
    "        details = self.details()\n",
    "        url = details.get(\"url\")\n",
    "        if url == None or details['deployed'] == False:\n",
    "            raise Exception(\"This version has not been deployed yet. Push a deployment or refresh version status.\")\n",
    "        return webbrowser.open(url)\n",
    "        "
   ]
  },
  {
   "cell_type": "code",
   "execution_count": null,
   "metadata": {},
   "outputs": [],
   "source": [
    "#export\n",
    "class ProjectManager(Lookup, BaseObject):\n",
    "    api = CLI_ENDPOINT\n",
    "    version = None\n",
    "    \n",
    "    def __str__(self):\n",
    "        return f\"<ProjectManager>\"\n",
    "    \n",
    "    def __repr__(self):\n",
    "        return self.__str__()\n",
    "        \n",
    "    def create(self, **kwargs):\n",
    "        r = self.http_post(f\"/projects/\", data=kwargs)\n",
    "        self.handle_invalid_lookup(r, expected_status_code=201)\n",
    "        return Project(**r.json())\n",
    "    \n",
    "    def get(self, project_id=None):\n",
    "        if project_id == None:\n",
    "            raise ArgumentsRequired(\"project_id\")\n",
    "        r = self.http_get(f\"/projects/{project_id}/\")\n",
    "        self.handle_invalid_lookup(r, expected_status_code=200)\n",
    "        return Project(**r.json())\n",
    "    \n",
    "    def all(self, **kwargs):\n",
    "        endpoint = f\"/projects/\"\n",
    "        if len(kwargs.keys()):\n",
    "            query_string = urllib.parse.urlencode(kwargs)\n",
    "            endpoint = f\"{endpoint}?{query_string}\"            \n",
    "        r = self.http_get(endpoint)\n",
    "        self.handle_invalid_lookup(r, expected_status_code=200)\n",
    "        return [Project(**x) for x in r.json()['results']]\n",
    "\n",
    "    def get_or_create(self, **kwargs):\n",
    "        created = False\n",
    "        existing_r = self.get()\n",
    "        if existing_r.status_code == 200:\n",
    "            return existing_r, created\n",
    "        new_r = self.create(**kwargs)\n",
    "        self.handle_invalid_lookup(new_r, expected_status_code=201)\n",
    "        created = True\n",
    "        return new_r, created\n",
    "    \n",
    "\n",
    "class Project(Lookup, BaseObject):\n",
    "    project_id = None\n",
    "    display_options = ['name', 'id', 'description', \n",
    "                       'updated', 'timestamp', 'versions_metadata', 'versions_urls']\n",
    "    \n",
    "    def __str__(self):\n",
    "        return f\"<Project {self.id}>\"\n",
    "    \n",
    "    def summary(self, verbose=0):\n",
    "        data = {\n",
    "            \"name\": self.name,\n",
    "            \"project_id\": self.project_id,\n",
    "            \"versions_summary\": {\n",
    "                \"deployed\": self.versions_metadata.get('deployed_count'),\n",
    "                \"urls\": self.versions_urls,\n",
    "            },\n",
    "            \"updated\": self.updated\n",
    "        }\n",
    "        if verbose == 1:\n",
    "            print_dict(data)\n",
    "        return data\n",
    "    \n",
    "    @property\n",
    "    def project_id(self):\n",
    "        return self.id\n",
    "    \n",
    "    objects = ProjectManager()\n",
    "    \n",
    "    def create_version(self, version=None):\n",
    "        if version == None:\n",
    "            raise ArgumentsRequired(\"version\")\n",
    "        version, _ = Version.objects.get_or_create(project_id=self.project_id, version=version)\n",
    "        return version\n",
    "    \n",
    "    def get_version(self, version=None):\n",
    "        if version == None:\n",
    "            raise ArgumentsRequired(\"version\")\n",
    "        version, _ = Version.objects.get_or_create(project_id=self.project_id, version=version)\n",
    "        return version\n",
    "    \n",
    "    def delete(self):\n",
    "        print(\"You can only delete projects in the tight.ai console right now.\")\n",
    "    \n",
    "    def get_versions(self):\n",
    "        versions = Version.objects.all(project_id=self.project_id)\n",
    "        return versions\n",
    "    \n",
    "    def latest(self, deployed=False):\n",
    "        return Version.objects.latest(project_id=self.project_id, deployed=deployed)"
   ]
  },
  {
   "cell_type": "code",
   "execution_count": null,
   "metadata": {},
   "outputs": [
    {
     "ename": "RequestError",
     "evalue": "'Invalid token. (status 401)'",
     "output_type": "error",
     "traceback": [
      "\u001b[0;31m---------------------------------------------------------------------------\u001b[0m",
      "\u001b[0;31mRequestError\u001b[0m                              Traceback (most recent call last)",
      "\u001b[0;32m<ipython-input-15-170bfb9cc4b7>\u001b[0m in \u001b[0;36m<module>\u001b[0;34m\u001b[0m\n\u001b[1;32m      1\u001b[0m \u001b[0;31m#hide\u001b[0m\u001b[0;34m\u001b[0m\u001b[0;34m\u001b[0m\u001b[0;34m\u001b[0m\u001b[0m\n\u001b[0;32m----> 2\u001b[0;31m \u001b[0mproj\u001b[0m \u001b[0;34m=\u001b[0m \u001b[0mProject\u001b[0m\u001b[0;34m.\u001b[0m\u001b[0mobjects\u001b[0m\u001b[0;34m.\u001b[0m\u001b[0mget\u001b[0m\u001b[0;34m(\u001b[0m\u001b[0mproject_id\u001b[0m\u001b[0;34m=\u001b[0m\u001b[0;34m'news-categories'\u001b[0m\u001b[0;34m)\u001b[0m\u001b[0;34m\u001b[0m\u001b[0;34m\u001b[0m\u001b[0m\n\u001b[0m\u001b[1;32m      3\u001b[0m \u001b[0mproj\u001b[0m\u001b[0;34m.\u001b[0m\u001b[0mproject_id\u001b[0m\u001b[0;34m\u001b[0m\u001b[0;34m\u001b[0m\u001b[0m\n",
      "\u001b[0;32m<ipython-input-11-f6e9a1ede3e8>\u001b[0m in \u001b[0;36mget\u001b[0;34m(self, project_id)\u001b[0m\n\u001b[1;32m     19\u001b[0m             \u001b[0;32mraise\u001b[0m \u001b[0mArgumentsRequired\u001b[0m\u001b[0;34m(\u001b[0m\u001b[0;34m\"project_id\"\u001b[0m\u001b[0;34m)\u001b[0m\u001b[0;34m\u001b[0m\u001b[0;34m\u001b[0m\u001b[0m\n\u001b[1;32m     20\u001b[0m         \u001b[0mr\u001b[0m \u001b[0;34m=\u001b[0m \u001b[0mself\u001b[0m\u001b[0;34m.\u001b[0m\u001b[0mhttp_get\u001b[0m\u001b[0;34m(\u001b[0m\u001b[0;34mf\"/projects/{project_id}/\"\u001b[0m\u001b[0;34m)\u001b[0m\u001b[0;34m\u001b[0m\u001b[0;34m\u001b[0m\u001b[0m\n\u001b[0;32m---> 21\u001b[0;31m         \u001b[0mself\u001b[0m\u001b[0;34m.\u001b[0m\u001b[0mhandle_invalid_lookup\u001b[0m\u001b[0;34m(\u001b[0m\u001b[0mr\u001b[0m\u001b[0;34m,\u001b[0m \u001b[0mexpected_status_code\u001b[0m\u001b[0;34m=\u001b[0m\u001b[0;36m200\u001b[0m\u001b[0;34m)\u001b[0m\u001b[0;34m\u001b[0m\u001b[0;34m\u001b[0m\u001b[0m\n\u001b[0m\u001b[1;32m     22\u001b[0m         \u001b[0;32mreturn\u001b[0m \u001b[0mProject\u001b[0m\u001b[0;34m(\u001b[0m\u001b[0;34m**\u001b[0m\u001b[0mr\u001b[0m\u001b[0;34m.\u001b[0m\u001b[0mjson\u001b[0m\u001b[0;34m(\u001b[0m\u001b[0;34m)\u001b[0m\u001b[0;34m)\u001b[0m\u001b[0;34m\u001b[0m\u001b[0;34m\u001b[0m\u001b[0m\n\u001b[1;32m     23\u001b[0m \u001b[0;34m\u001b[0m\u001b[0m\n",
      "\u001b[0;32m~/Tight/tightai/tightai/lookup.py\u001b[0m in \u001b[0;36mhandle_invalid_lookup\u001b[0;34m(self, response, expected_status_code)\u001b[0m\n\u001b[1;32m     86\u001b[0m             \u001b[0;32mif\u001b[0m \u001b[0misinstance\u001b[0m\u001b[0;34m(\u001b[0m\u001b[0mmsg\u001b[0m\u001b[0;34m,\u001b[0m \u001b[0mlist\u001b[0m\u001b[0;34m)\u001b[0m\u001b[0;34m:\u001b[0m\u001b[0;34m\u001b[0m\u001b[0;34m\u001b[0m\u001b[0m\n\u001b[1;32m     87\u001b[0m                 \u001b[0mmsg\u001b[0m \u001b[0;34m=\u001b[0m \u001b[0;34m\", \"\u001b[0m\u001b[0;34m.\u001b[0m\u001b[0mjoin\u001b[0m\u001b[0;34m(\u001b[0m\u001b[0mmsg\u001b[0m\u001b[0;34m)\u001b[0m\u001b[0;34m\u001b[0m\u001b[0;34m\u001b[0m\u001b[0m\n\u001b[0;32m---> 88\u001b[0;31m             \u001b[0;32mraise\u001b[0m \u001b[0mRequestError\u001b[0m\u001b[0;34m(\u001b[0m\u001b[0;34mf\"{msg}\"\u001b[0m\u001b[0;34m,\u001b[0m \u001b[0mstatus\u001b[0m\u001b[0;34m=\u001b[0m\u001b[0mr\u001b[0m\u001b[0;34m.\u001b[0m\u001b[0mstatus_code\u001b[0m\u001b[0;34m)\u001b[0m\u001b[0;34m\u001b[0m\u001b[0;34m\u001b[0m\u001b[0m\n\u001b[0m",
      "\u001b[0;31mRequestError\u001b[0m: 'Invalid token. (status 401)'"
     ]
    }
   ],
   "source": [
    "#hide\n",
    "proj = Project.objects.get(project_id='news-categories')\n",
    "proj.project_id"
   ]
  },
  {
   "cell_type": "code",
   "execution_count": null,
   "metadata": {},
   "outputs": [
    {
     "ename": "NameError",
     "evalue": "name 'proj' is not defined",
     "output_type": "error",
     "traceback": [
      "\u001b[0;31m---------------------------------------------------------------------------\u001b[0m",
      "\u001b[0;31mNameError\u001b[0m                                 Traceback (most recent call last)",
      "\u001b[0;32m<ipython-input-13-75572ca9f6c7>\u001b[0m in \u001b[0;36m<module>\u001b[0;34m\u001b[0m\n\u001b[1;32m      1\u001b[0m \u001b[0;31m#hide\u001b[0m\u001b[0;34m\u001b[0m\u001b[0;34m\u001b[0m\u001b[0;34m\u001b[0m\u001b[0m\n\u001b[0;32m----> 2\u001b[0;31m \u001b[0mproj\u001b[0m\u001b[0;34m.\u001b[0m\u001b[0msummary\u001b[0m\u001b[0;34m(\u001b[0m\u001b[0;34m)\u001b[0m\u001b[0;34m\u001b[0m\u001b[0;34m\u001b[0m\u001b[0m\n\u001b[0m",
      "\u001b[0;31mNameError\u001b[0m: name 'proj' is not defined"
     ]
    }
   ],
   "source": [
    "#hide\n",
    "proj.summary()"
   ]
  },
  {
   "cell_type": "code",
   "execution_count": null,
   "metadata": {},
   "outputs": [
    {
     "ename": "NameError",
     "evalue": "name 'proj' is not defined",
     "output_type": "error",
     "traceback": [
      "\u001b[0;31m---------------------------------------------------------------------------\u001b[0m",
      "\u001b[0;31mNameError\u001b[0m                                 Traceback (most recent call last)",
      "\u001b[0;32m<ipython-input-14-7100eb6ea979>\u001b[0m in \u001b[0;36m<module>\u001b[0;34m\u001b[0m\n\u001b[1;32m      1\u001b[0m \u001b[0;31m#hide\u001b[0m\u001b[0;34m\u001b[0m\u001b[0;34m\u001b[0m\u001b[0;34m\u001b[0m\u001b[0m\n\u001b[0;32m----> 2\u001b[0;31m \u001b[0mproj\u001b[0m\u001b[0;34m.\u001b[0m\u001b[0mdetails\u001b[0m\u001b[0;34m(\u001b[0m\u001b[0mverbose\u001b[0m\u001b[0;34m=\u001b[0m\u001b[0;36m1\u001b[0m\u001b[0;34m)\u001b[0m\u001b[0;34m\u001b[0m\u001b[0;34m\u001b[0m\u001b[0m\n\u001b[0m",
      "\u001b[0;31mNameError\u001b[0m: name 'proj' is not defined"
     ]
    }
   ],
   "source": [
    "#hide\n",
    "proj.details(verbose=1)"
   ]
  },
  {
   "cell_type": "code",
   "execution_count": null,
   "metadata": {},
   "outputs": [],
   "source": [
    "#hide\n",
    "proj.get_versions()"
   ]
  },
  {
   "cell_type": "code",
   "execution_count": null,
   "metadata": {},
   "outputs": [],
   "source": [
    "#hide\n",
    "recent_version = proj.latest()\n",
    "if recent_version != None:\n",
    "    recent_version.summary(verbose=1)\n",
    "    print(\"\\n\\n\")\n",
    "    recent_version.details()"
   ]
  },
  {
   "cell_type": "code",
   "execution_count": null,
   "metadata": {},
   "outputs": [],
   "source": [
    "#hide\n",
    "recent_version.open()"
   ]
  },
  {
   "cell_type": "code",
   "execution_count": null,
   "metadata": {},
   "outputs": [],
   "source": [
    "#hide\n",
    "version_c2, created = Version.objects.get_or_create(version=92023, project_id=\"news-categories\")\n",
    "version_c2\n",
    "print(version_c2, created)\n",
    "time.sleep(4)\n",
    "version_c2.delete()\n",
    "print('deleted')"
   ]
  },
  {
   "cell_type": "code",
   "execution_count": null,
   "metadata": {},
   "outputs": [],
   "source": [
    "#hide\n",
    "try:\n",
    "    version_c = Version.objects.get(version=92023, project_id=\"news-categories\")\n",
    "except Exception as e:\n",
    "    print(\"Expetected Error:\", e.message)\n",
    "    assert e.status == 404"
   ]
  },
  {
   "cell_type": "code",
   "execution_count": null,
   "metadata": {},
   "outputs": [],
   "source": [
    "#hide\n",
    "try:\n",
    "    version_c = Version.objects.create(version=99023, project_id=\"news-categories\")\n",
    "except Exception as e:\n",
    "    print(\"Expetected Error:\", e.message)\n",
    "    assert e.status == 400"
   ]
  },
  {
   "cell_type": "code",
   "execution_count": null,
   "metadata": {},
   "outputs": [],
   "source": []
  },
  {
   "cell_type": "code",
   "execution_count": null,
   "metadata": {},
   "outputs": [],
   "source": [
    "#hide\n",
    "version = Version.objects.get(version=99023, project_id=\"news-categories\")\n",
    "version.details()"
   ]
  },
  {
   "cell_type": "code",
   "execution_count": null,
   "metadata": {},
   "outputs": [],
   "source": [
    "#hide\n",
    "version = Version.objects.get(version=6, project_id=\"news-categories\")\n",
    "# version.refresh()"
   ]
  },
  {
   "cell_type": "code",
   "execution_count": null,
   "metadata": {},
   "outputs": [],
   "source": [
    "#hide\n",
    "deets = version.details()\n",
    "import json\n",
    "json.dumps(deets)"
   ]
  },
  {
   "cell_type": "code",
   "execution_count": null,
   "metadata": {},
   "outputs": [],
   "source": [
    "#hide\n",
    "version.push(\"/Users/jmitch/tight/my-tight-apps/local_dev/\")"
   ]
  },
  {
   "cell_type": "code",
   "execution_count": null,
   "metadata": {},
   "outputs": [],
   "source": [
    "#hide\n",
    "version.details()"
   ]
  },
  {
   "cell_type": "code",
   "execution_count": null,
   "metadata": {},
   "outputs": [],
   "source": [
    "#hide\n",
    "version.status()"
   ]
  },
  {
   "cell_type": "code",
   "execution_count": null,
   "metadata": {},
   "outputs": [],
   "source": [
    "#hide\n",
    "# version.destroy()"
   ]
  },
  {
   "cell_type": "code",
   "execution_count": null,
   "metadata": {},
   "outputs": [],
   "source": [
    "#hide\n",
    "version.status()"
   ]
  },
  {
   "cell_type": "code",
   "execution_count": null,
   "metadata": {},
   "outputs": [],
   "source": [
    "#hide\n",
    "versions = Version.objects.all(project_id=\"news-categories\", size='10', deployed=True)\n",
    "versions"
   ]
  },
  {
   "cell_type": "code",
   "execution_count": null,
   "metadata": {},
   "outputs": [],
   "source": [
    "#hide\n",
    "# import requests\n",
    "# r = requests.post('https://www.tight.ai/api/webhooks/projects/versions/status/', data={})"
   ]
  },
  {
   "cell_type": "code",
   "execution_count": null,
   "metadata": {},
   "outputs": [],
   "source": [
    "#hide\n",
    "d = \"{\\\"app_name\\\": \\\"news-categories-v5\\\", \\\"address\\\": {\\\"url\\\": \\\"http://news-categories-v5.apps.svc.cluster.local\\\"}, \\\"conditions\\\": [{\\\"lastTransitionTime\\\": \\\"2020-05-19T03:48:44Z\\\", \\\"status\\\": \\\"True\\\", \\\"type\\\": \\\"ConfigurationsReady\\\"}, {\\\"lastTransitionTime\\\": \\\"2020-05-19T03:48:47Z\\\", \\\"status\\\": \\\"True\\\", \\\"type\\\": \\\"Ready\\\"}, {\\\"lastTransitionTime\\\": \\\"2020-05-19T03:48:47Z\\\", \\\"status\\\": \\\"True\\\", \\\"type\\\": \\\"RoutesReady\\\"}], \\\"latestCreatedRevisionName\\\": \\\"news-categories-v5-rk6bb\\\", \\\"latestReadyRevisionName\\\": \\\"news-categories-v5-rk6bb\\\", \\\"observedGeneration\\\": 1, \\\"traffic\\\": [{\\\"latestRevision\\\": true, \\\"percent\\\": 100, \\\"revisionName\\\": \\\"news-categories-v5-rk6bb\\\"}], \\\"url\\\": \\\"http://news-categories-v5.apps.tight.ml\\\"}\""
   ]
  },
  {
   "cell_type": "code",
   "execution_count": null,
   "metadata": {},
   "outputs": [],
   "source": [
    "#hide\n",
    "import json"
   ]
  },
  {
   "cell_type": "code",
   "execution_count": null,
   "metadata": {},
   "outputs": [],
   "source": [
    "#hide\n",
    "b = json.loads(d)"
   ]
  },
  {
   "cell_type": "code",
   "execution_count": null,
   "metadata": {},
   "outputs": [],
   "source": [
    "#hide\n",
    "b"
   ]
  },
  {
   "cell_type": "code",
   "execution_count": null,
   "metadata": {},
   "outputs": [],
   "source": [
    "#hide\n",
    "import requests\n",
    "endpoint = \"http://127.0.0.1:8123/status\"\n",
    "data = {\n",
    "    'project_id': \"news-categories\",\n",
    "    \"version\": \"6\"\n",
    "}\n",
    "r = requests.post(endpoint, json=data)\n",
    "data = r.json()\n",
    "data"
   ]
  },
  {
   "cell_type": "code",
   "execution_count": null,
   "metadata": {},
   "outputs": [],
   "source": [
    "#hide\n",
    "import requests\n",
    "endpoint = \"http://127.0.0.1:8123/live/status/news-categories/v5\"\n",
    "r = requests.get(endpoint)\n",
    "data = r.json()\n",
    "data"
   ]
  },
  {
   "cell_type": "code",
   "execution_count": null,
   "metadata": {},
   "outputs": [],
   "source": [
    "#hide\n",
    "traffic_data = data['status']['traffic']\n",
    "traffic_data = sorted(traffic_data, key = lambda x: -x['percent'])\n",
    "traffic_data"
   ]
  },
  {
   "cell_type": "code",
   "execution_count": null,
   "metadata": {},
   "outputs": [],
   "source": [
    "#hide\n",
    "ready = False\n",
    "for i in data['status']['conditions']:\n",
    "    _cond_ready = f\"{i['status']}\".lower() == \"true\"\n",
    "    ready = _cond_ready\n",
    "ready"
   ]
  },
  {
   "cell_type": "code",
   "execution_count": null,
   "metadata": {},
   "outputs": [],
   "source": [
    "#hide\n",
    "sorted(traffic_data, key = lambda x: -x['percent'])"
   ]
  },
  {
   "cell_type": "code",
   "execution_count": null,
   "metadata": {},
   "outputs": [],
   "source": [
    "\n"
   ]
  }
 ],
 "metadata": {
  "kernelspec": {
   "display_name": "Python 3",
   "language": "python",
   "name": "python3"
  }
 },
 "nbformat": 4,
 "nbformat_minor": 4
}

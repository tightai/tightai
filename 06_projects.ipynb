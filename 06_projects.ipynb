{
 "cells": [
  {
   "cell_type": "code",
   "execution_count": null,
   "metadata": {},
   "outputs": [],
   "source": [
    "# default_exp projects"
   ]
  },
  {
   "cell_type": "markdown",
   "metadata": {},
   "source": [
    "# Projects\n",
    "\n",
    "Tight.ai projects are essentially your ML models as production-ready cloud services. \n",
    "\n",
    "Projects are serverless machine learning applications as REST API endpoints made for scalability, high availability, and improvement simplicity.\n",
    "\n",
    "Serverless means you pay for what you use, when you use it thus drastically reducing the cost of every serverless app you have in production."
   ]
  },
  {
   "cell_type": "code",
   "execution_count": null,
   "metadata": {},
   "outputs": [],
   "source": [
    "#hide\n",
    "# !pip install python-slugify"
   ]
  },
  {
   "cell_type": "code",
   "execution_count": null,
   "metadata": {},
   "outputs": [],
   "source": []
  },
  {
   "cell_type": "code",
   "execution_count": null,
   "metadata": {},
   "outputs": [],
   "source": [
    "#export\n",
    "import time\n",
    "import urllib.parse\n",
    "import webbrowser\n",
    "from pathlib import Path\n",
    "from slugify import slugify\n",
    "from tightai import exceptions\n",
    "from tightai.lookup import Lookup\n",
    "from tightai.conf import CLI_ENDPOINT\n",
    "from tightai.upload import Uploader\n",
    "from tightai.utils import sort_by_key"
   ]
  },
  {
   "cell_type": "code",
   "execution_count": null,
   "metadata": {},
   "outputs": [],
   "source": [
    "#hide\n",
    "test = False\n",
    "if test:\n",
    "    CLI_ENDPOINT = \"http://cli.desalsa.io:8000\""
   ]
  },
  {
   "cell_type": "code",
   "execution_count": null,
   "metadata": {},
   "outputs": [],
   "source": [
    "#export\n",
    "class BaseObject():\n",
    "    _user_keys = ['user', 'owner', 'created_by', 'added_by']\n",
    "    display_options = []\n",
    "    def __init__(self, *args, **kwargs):\n",
    "        super().__init__()\n",
    "        for k,v in kwargs.items():\n",
    "            setattr(self, k, v)\n",
    "    \n",
    "    def __repr__(self):\n",
    "        return self.__str__()\n",
    "    \n",
    "    def __str__(self):\n",
    "        return f\"<Model: {self.name}>\"\n",
    "    \n",
    "    def details(self, verbose=1):\n",
    "        item_dict = self.__dict__\n",
    "        d = {}\n",
    "        for k, v in item_dict.items():\n",
    "            if k in self.display_options:\n",
    "                d[k] = v\n",
    "                if verbose == 1:\n",
    "                    if isinstance(v, dict):\n",
    "                        print(f\"{k}:\")\n",
    "                        for k1, v1 in v.items():\n",
    "                            print(f\"\\t{k1}: {v1}\")\n",
    "                    elif isinstance(v, list):\n",
    "                        print(f\"{k}:\")\n",
    "                        for v1 in v:\n",
    "                            print(f\"\\t- {v1}\")\n",
    "                    else:\n",
    "                        print(f\"{k}: {v}\")\n",
    "        return d"
   ]
  },
  {
   "cell_type": "code",
   "execution_count": null,
   "metadata": {},
   "outputs": [],
   "source": [
    "#export\n",
    "class UserObject(BaseObject):\n",
    "    def __str__(self):\n",
    "        return f\"<User: {self.username}>\""
   ]
  },
  {
   "cell_type": "code",
   "execution_count": null,
   "metadata": {},
   "outputs": [],
   "source": [
    "#export\n",
    "class VersionManager(Lookup, BaseObject):\n",
    "    api = CLI_ENDPOINT\n",
    "    version = None\n",
    "    project_id = None\n",
    "    \n",
    "    def __str__(self):\n",
    "        return f\"<VersionManager>\"\n",
    "    \n",
    "    def __repr__(self):\n",
    "        return self.__str__()\n",
    "    \n",
    "    def create(self, project_id=None, raw=False, **kwargs):\n",
    "        if project_id == None:\n",
    "            raise ArgumentsRequired(\"project_id\")\n",
    "        r = self.http_post(f\"/projects/{project_id}/versions/\", data=kwargs)\n",
    "        if raw:\n",
    "            return r\n",
    "        self.handle_invalid_lookup(r, expected_status_code=201)\n",
    "        return Version(**r.json())\n",
    "    \n",
    "    def get(self, version=None, project_id=None, raw=False):\n",
    "        if project_id == None or version == None:\n",
    "            raise ArgumentsRequired(\"version\", \"project_id\")\n",
    "        r = self.http_get(f\"/projects/{project_id}/versions/{version}\")\n",
    "        if raw:\n",
    "            return r\n",
    "        self.handle_invalid_lookup(r, expected_status_code=200)\n",
    "        return Version(**r.json())\n",
    "    \n",
    "    def latest(self, project_id=None, none_on_404=False, deployed=False):\n",
    "        if project_id == None:\n",
    "            raise ArgumentsRequired(\"project_id\")\n",
    "        deployed_str = f\"{deployed}\".lower()\n",
    "        r = self.http_get(f\"/projects/{project_id}/latest/?deployed={deployed_str}\")\n",
    "        if deployed == True:\n",
    "            none_on_404 = True\n",
    "        if r.status_code == 404 and none_on_404:\n",
    "            return None\n",
    "        self.handle_invalid_lookup(r, expected_status_code=200)\n",
    "        return Version(**r.json())\n",
    "    \n",
    "    def all(self, project_id=None, **kwargs):\n",
    "        if project_id == None:\n",
    "            raise ArgumentsRequired(\"project_id\")\n",
    "        endpoint = f\"/projects/{project_id}/versions/\"\n",
    "        if len(kwargs.keys()):\n",
    "            query_string = urllib.parse.urlencode(kwargs)\n",
    "            endpoint = f\"{endpoint}?{query_string}\"            \n",
    "        r = self.http_get(endpoint)\n",
    "        self.handle_invalid_lookup(r, expected_status_code=200)\n",
    "        return [Version(**x) for x in r.json()['results']]\n",
    "\n",
    "    def get_or_create(self, **kwargs):\n",
    "        created = False\n",
    "        version = None\n",
    "        try:\n",
    "            existing_r = self.get(**kwargs)\n",
    "        except:\n",
    "            existing_r = None\n",
    "        if existing_r != None:\n",
    "            return existing_r, created\n",
    "        new_v = self.create(**kwargs)\n",
    "        created = True\n",
    "        return new_v, created\n",
    "    \n",
    "\n",
    "class Version(Lookup, BaseObject):\n",
    "    version = None\n",
    "    project_id = None\n",
    "    trigger_options = ['status', 'build', 'build_and_deploy', 'deploy', 'destroy']\n",
    "    display_options = ['project_id', 'version', 'description', 'url', 'deployed', \n",
    "                       'deployed_timestamp', 'destroyed', 'destroyed_timestamp', 'updated', 'timestamp']\n",
    "    \n",
    "    def __str__(self):\n",
    "        return f\"<Version {self.version} ({self.project_id})>\"\n",
    "    \n",
    "    objects = VersionManager()\n",
    "    \n",
    "    def build(self):\n",
    "        return self.update_trigger(option='build')\n",
    "    \n",
    "    def delete(self):\n",
    "        confirmation_code = f\"{self.project_id}-v{self.version}\"\n",
    "        response = input(f\"Deleting is cannot be reversed. Please confirm by typing:\\n\\n{confirmation_code}\\n\\n\")\n",
    "        if f\"{response}\".strip() != confirmation_code:\n",
    "            print(f\"\\nDelete failed. {response} did not match {confirmation_code} exactly.\")\n",
    "            return \n",
    "        r = self.http_delete(f\"/projects/{self.project_id}/versions/{self.version}\")\n",
    "        self.handle_invalid_lookup(r, expected_status_code=204)\n",
    "        setattr(self, 'deleted', True)\n",
    "        return r\n",
    "    \n",
    "    def deploy(self):\n",
    "        raise Exception(\"Use `.push(local_path)` to deploy instead.\")\n",
    "    \n",
    "    def destroy(self):\n",
    "        return self.update_trigger(option='destroy')\n",
    "    \n",
    "    def upload(self, path, verbose=True):\n",
    "        uploader = Uploader(path=path, project_id=self.project_id, version=self.version)\n",
    "        uploaded_count = uploader.upload(verbose=verbose)\n",
    "        return uploaded_count\n",
    "    \n",
    "    def status(self, wait=True):\n",
    "        endpoint = f\"/projects/{self.project_id}/versions/{self.version}/status/\"\n",
    "        r = self.http_post(endpoint, data={})\n",
    "        if r.status_code != 200:\n",
    "            raise Exception(\"Could not find status at this time.\")\n",
    "        r_data = r.json()\n",
    "        for k,v in r_data.items():\n",
    "            setattr(self, k, v)\n",
    "        return self.details()\n",
    "    \n",
    "    def refresh(self):\n",
    "        version = self.objects.get(version=self.version, project_id=self.project_id)\n",
    "        for k,v in version.__dict__.items():\n",
    "            setattr(self, k, v)\n",
    "        return version.details()\n",
    "    \n",
    "    def push(self, path, check_status=True):\n",
    "        project_id = self.project_id\n",
    "        version = self.version\n",
    "        uploaded_count = self.upload(path, verbose=True)\n",
    "        if uploaded_count == 0:\n",
    "            print(f\"Uploaded 0 files. Continuing\")\n",
    "        print(\"Deploying...\")\n",
    "        deploy_r = self.update_trigger(option='build_and_deploy')\n",
    "        if deploy_r.status_code != 200:\n",
    "            raise Exception(\"Project not deployed. Please try again.\")\n",
    "        if not check_status:\n",
    "            print(f\"{project_id} {version} pushed. Use `.status()` to check deployment status.\")\n",
    "            return None\n",
    "        details = self.status(wait=True)\n",
    "        url = details.get('url')\n",
    "        if not url:\n",
    "            print(\"URL is not ready yet. Use `.status()` to check deployment status.\")\n",
    "            return None\n",
    "        setattr(self, 'url', url)\n",
    "        return url\n",
    "    \n",
    "    def update_trigger(self, option='status'):\n",
    "        if option not in self.trigger_options:\n",
    "            print(f\"{option} is invalid. Please try again.\")\n",
    "            option = 'status'\n",
    "        data = {\n",
    "            'trigger_active': True,\n",
    "            'trigger': f\"{option}\",\n",
    "        }\n",
    "        r = self.http_put(f\"/projects/{self.project_id}/versions/{self.version}\", data=data)\n",
    "        self.handle_invalid_lookup(r, expected_status_code=200)\n",
    "        self.update_from_response(r)\n",
    "        return r\n",
    "    \n",
    "    def update_from_response(self, response, display=False):\n",
    "        for k, v in response.json().items():\n",
    "            if display:\n",
    "                print(f\"{k}\")\n",
    "            current_v = getattr(self, k)\n",
    "            if v != None and current_v != v:\n",
    "                setattr(self, k, v)\n",
    "        return\n",
    "    \n",
    "    def open(self):\n",
    "        details = self.details()\n",
    "        url = details.get(\"url\")\n",
    "        if url == None:\n",
    "            raise Exception(\"This version has not been deployed yet. Run `.push()` first.\")\n",
    "        return webbrowser.open(url)\n",
    "        "
   ]
  },
  {
   "cell_type": "code",
   "execution_count": null,
   "metadata": {},
   "outputs": [],
   "source": [
    "#export\n",
    "class ProjectManager(Lookup, BaseObject):\n",
    "    api = CLI_ENDPOINT\n",
    "    version = None\n",
    "    \n",
    "    def __str__(self):\n",
    "        return f\"<ProjectManager>\"\n",
    "    \n",
    "    def __repr__(self):\n",
    "        return self.__str__()\n",
    "        \n",
    "    def create(self, **kwargs):\n",
    "        r = self.http_post(f\"/projects/\", data=kwargs)\n",
    "        self.handle_invalid_lookup(r, expected_status_code=201)\n",
    "        return Project(**r.json())\n",
    "    \n",
    "    def get(self, project_id=None):\n",
    "        if project_id == None:\n",
    "            raise ArgumentsRequired(project_id)\n",
    "        r = self.http_get(f\"/projects/{project_id}/\")\n",
    "        self.handle_invalid_lookup(r, expected_status_code=200)\n",
    "        return Project(**r.json())\n",
    "    \n",
    "    def all(self, **kwargs):\n",
    "        endpoint = f\"/projects/\"\n",
    "        if len(kwargs.keys()):\n",
    "            query_string = urllib.parse.urlencode(kwargs)\n",
    "            endpoint = f\"{endpoint}?{query_string}\"            \n",
    "        r = self.http_get(endpoint)\n",
    "        self.handle_invalid_lookup(r, expected_status_code=200)\n",
    "        return [Project(**x) for x in r.json()['results']]\n",
    "\n",
    "    def get_or_create(self, **kwargs):\n",
    "        created = False\n",
    "        existing_r = self.get()\n",
    "        if existing_r.status_code == 200:\n",
    "            return existing_r, created\n",
    "        new_r = self.create(**kwargs)\n",
    "        self.handle_invalid_lookup(new_r, expected_status_code=201)\n",
    "        created = True\n",
    "        return new_r, created\n",
    "    \n",
    "\n",
    "class Project(Lookup, BaseObject):\n",
    "    project_id = None\n",
    "    display_options = ['name', 'id', 'description', \n",
    "                       'updated', 'timestamp', 'versions_metadata', 'versions_urls']\n",
    "    \n",
    "    def __str__(self):\n",
    "        return f\"<Project {self.id}>\"\n",
    "    \n",
    "    @property\n",
    "    def project_id(self):\n",
    "        return self.id\n",
    "    \n",
    "    objects = ProjectManager()\n",
    "    \n",
    "    def get_versions(self):\n",
    "        versions = Version.objects.all(project_id=self.project_id)\n",
    "        return versions\n",
    "    \n",
    "    def latest(self, deployed=False):\n",
    "        return Version.objects.latest(project_id=self.project_id, deployed=deployed)"
   ]
  },
  {
   "cell_type": "code",
   "execution_count": null,
   "metadata": {},
   "outputs": [
    {
     "data": {
      "text/plain": [
       "'news-categories'"
      ]
     },
     "execution_count": null,
     "metadata": {},
     "output_type": "execute_result"
    }
   ],
   "source": [
    "proj = Project.objects.get(project_id='news-categories')\n",
    "proj.project_id"
   ]
  },
  {
   "cell_type": "code",
   "execution_count": null,
   "metadata": {},
   "outputs": [
    {
     "name": "stdout",
     "output_type": "stream",
     "text": [
      "name: News Categories\n",
      "id: news-categories\n",
      "description: \n",
      "versions_urls:\n",
      "\t- http://news-categories-v6.apps.tight.ml\n",
      "\t- http://news-categories-v5.apps.tight.ml\n",
      "versions_metadata:\n",
      "\tdeployed_count: 2\n",
      "\tdestroyed_count: 0\n",
      "\tother: 5\n",
      "updated: 2020-05-14T04:37:04.895133Z\n",
      "timestamp: 2020-05-14T04:35:18.429311Z\n"
     ]
    },
    {
     "data": {
      "text/plain": [
       "{'name': 'News Categories',\n",
       " 'id': 'news-categories',\n",
       " 'description': '',\n",
       " 'versions_urls': ['http://news-categories-v6.apps.tight.ml',\n",
       "  'http://news-categories-v5.apps.tight.ml'],\n",
       " 'versions_metadata': {'deployed_count': 2, 'destroyed_count': 0, 'other': 5},\n",
       " 'updated': '2020-05-14T04:37:04.895133Z',\n",
       " 'timestamp': '2020-05-14T04:35:18.429311Z'}"
      ]
     },
     "execution_count": null,
     "metadata": {},
     "output_type": "execute_result"
    }
   ],
   "source": [
    "proj.details(verbose=1)"
   ]
  },
  {
   "cell_type": "code",
   "execution_count": null,
   "metadata": {},
   "outputs": [
    {
     "data": {
      "text/plain": [
       "[<Version 99023 (news-categories)>,\n",
       " <Version 6 (news-categories)>,\n",
       " <Version 5 (news-categories)>,\n",
       " <Version 4 (news-categories)>,\n",
       " <Version 3 (news-categories)>]"
      ]
     },
     "execution_count": null,
     "metadata": {},
     "output_type": "execute_result"
    }
   ],
   "source": [
    "proj.get_versions()"
   ]
  },
  {
   "cell_type": "code",
   "execution_count": null,
   "metadata": {},
   "outputs": [
    {
     "name": "stdout",
     "output_type": "stream",
     "text": [
      "project_id: news-categories\n",
      "version: 99023\n",
      "description: None\n",
      "url: None\n",
      "deployed: False\n",
      "deployed_timestamp: None\n",
      "destroyed: False\n",
      "destroyed_timestamp: None\n",
      "updated: 2020-05-19T07:11:49.154710Z\n",
      "timestamp: 2020-05-19T07:11:49.154681Z\n"
     ]
    }
   ],
   "source": [
    "recent_version = proj.latest()\n",
    "if recent_version != None:\n",
    "    recent_version.details()"
   ]
  },
  {
   "cell_type": "code",
   "execution_count": null,
   "metadata": {},
   "outputs": [
    {
     "name": "stdout",
     "output_type": "stream",
     "text": [
      "project_id: news-categories\n",
      "version: 99023\n",
      "description: None\n",
      "url: None\n",
      "deployed: False\n",
      "deployed_timestamp: None\n",
      "destroyed: False\n",
      "destroyed_timestamp: None\n",
      "updated: 2020-05-19T07:11:49.154710Z\n",
      "timestamp: 2020-05-19T07:11:49.154681Z\n"
     ]
    },
    {
     "ename": "Exception",
     "evalue": "This version has not been deployed yet. Run `.push()` first.",
     "output_type": "error",
     "traceback": [
      "\u001b[0;31m---------------------------------------------------------------------------\u001b[0m",
      "\u001b[0;31mException\u001b[0m                                 Traceback (most recent call last)",
      "\u001b[0;32m<ipython-input-35-d91fbfa64318>\u001b[0m in \u001b[0;36m<module>\u001b[0;34m\u001b[0m\n\u001b[0;32m----> 1\u001b[0;31m \u001b[0mrecent_version\u001b[0m\u001b[0;34m.\u001b[0m\u001b[0mopen\u001b[0m\u001b[0;34m(\u001b[0m\u001b[0;34m)\u001b[0m\u001b[0;34m\u001b[0m\u001b[0;34m\u001b[0m\u001b[0m\n\u001b[0m",
      "\u001b[0;32m<ipython-input-29-09a74e062544>\u001b[0m in \u001b[0;36mopen\u001b[0;34m(self)\u001b[0m\n\u001b[1;32m    164\u001b[0m         \u001b[0murl\u001b[0m \u001b[0;34m=\u001b[0m \u001b[0mdetails\u001b[0m\u001b[0;34m.\u001b[0m\u001b[0mget\u001b[0m\u001b[0;34m(\u001b[0m\u001b[0;34m\"url\"\u001b[0m\u001b[0;34m)\u001b[0m\u001b[0;34m\u001b[0m\u001b[0;34m\u001b[0m\u001b[0m\n\u001b[1;32m    165\u001b[0m         \u001b[0;32mif\u001b[0m \u001b[0murl\u001b[0m \u001b[0;34m==\u001b[0m \u001b[0;32mNone\u001b[0m\u001b[0;34m:\u001b[0m\u001b[0;34m\u001b[0m\u001b[0;34m\u001b[0m\u001b[0m\n\u001b[0;32m--> 166\u001b[0;31m             \u001b[0;32mraise\u001b[0m \u001b[0mException\u001b[0m\u001b[0;34m(\u001b[0m\u001b[0;34m\"This version has not been deployed yet. Run `.push()` first.\"\u001b[0m\u001b[0;34m)\u001b[0m\u001b[0;34m\u001b[0m\u001b[0;34m\u001b[0m\u001b[0m\n\u001b[0m\u001b[1;32m    167\u001b[0m         \u001b[0;32mreturn\u001b[0m \u001b[0mwebbrowser\u001b[0m\u001b[0;34m.\u001b[0m\u001b[0mopen\u001b[0m\u001b[0;34m(\u001b[0m\u001b[0murl\u001b[0m\u001b[0;34m)\u001b[0m\u001b[0;34m\u001b[0m\u001b[0;34m\u001b[0m\u001b[0m\n\u001b[1;32m    168\u001b[0m \u001b[0;34m\u001b[0m\u001b[0m\n",
      "\u001b[0;31mException\u001b[0m: This version has not been deployed yet. Run `.push()` first."
     ]
    }
   ],
   "source": [
    "recent_version.open()"
   ]
  },
  {
   "cell_type": "code",
   "execution_count": null,
   "metadata": {},
   "outputs": [
    {
     "name": "stdout",
     "output_type": "stream",
     "text": [
      "<Version 92023 (news-categories)> True\n",
      "Deleting is cannot be reversed. Please confirm by typing:\n",
      "\n",
      "news-categories-v92023\n",
      "\n",
      "news-categories-v92023\n",
      "deleted\n"
     ]
    }
   ],
   "source": [
    "version_c2, created = Version.objects.get_or_create(version=92023, project_id=\"news-categories\")\n",
    "version_c2\n",
    "print(version_c2, created)\n",
    "time.sleep(4)\n",
    "version_c2.delete()\n",
    "print('deleted')"
   ]
  },
  {
   "cell_type": "code",
   "execution_count": null,
   "metadata": {},
   "outputs": [
    {
     "name": "stdout",
     "output_type": "stream",
     "text": [
      "Expetected Error: Not found.\n"
     ]
    }
   ],
   "source": [
    "try:\n",
    "    version_c = Version.objects.get(version=92023, project_id=\"news-categories\")\n",
    "except Exception as e:\n",
    "    print(\"Expetected Error:\", e.message)\n",
    "    assert e.status == 404"
   ]
  },
  {
   "cell_type": "code",
   "execution_count": null,
   "metadata": {},
   "outputs": [
    {
     "name": "stdout",
     "output_type": "stream",
     "text": [
      "Expetected Error: version: 99023 is already a version in news-categories\n"
     ]
    }
   ],
   "source": [
    "try:\n",
    "    version_c = Version.objects.create(version=99023, project_id=\"news-categories\")\n",
    "except Exception as e:\n",
    "    print(\"Expetected Error:\", e.message)\n",
    "    assert e.status == 400"
   ]
  },
  {
   "cell_type": "code",
   "execution_count": null,
   "metadata": {},
   "outputs": [],
   "source": []
  },
  {
   "cell_type": "code",
   "execution_count": null,
   "metadata": {},
   "outputs": [
    {
     "name": "stdout",
     "output_type": "stream",
     "text": [
      "project_id: news-categories\n",
      "version: 99023\n",
      "description: None\n",
      "url: None\n",
      "deployed: False\n",
      "deployed_timestamp: None\n",
      "destroyed: False\n",
      "destroyed_timestamp: None\n",
      "updated: 2020-05-19T07:11:49.154710Z\n",
      "timestamp: 2020-05-19T07:11:49.154681Z\n"
     ]
    },
    {
     "data": {
      "text/plain": [
       "{'project_id': 'news-categories',\n",
       " 'version': 99023,\n",
       " 'description': None,\n",
       " 'url': None,\n",
       " 'deployed': False,\n",
       " 'deployed_timestamp': None,\n",
       " 'destroyed': False,\n",
       " 'destroyed_timestamp': None,\n",
       " 'updated': '2020-05-19T07:11:49.154710Z',\n",
       " 'timestamp': '2020-05-19T07:11:49.154681Z'}"
      ]
     },
     "execution_count": null,
     "metadata": {},
     "output_type": "execute_result"
    }
   ],
   "source": [
    "version = Version.objects.get(version=99023, project_id=\"news-categories\")\n",
    "version.details()"
   ]
  },
  {
   "cell_type": "code",
   "execution_count": null,
   "metadata": {},
   "outputs": [],
   "source": [
    "version = Version.objects.get(version=6, project_id=\"news-categories\")\n",
    "# version.refresh()"
   ]
  },
  {
   "cell_type": "code",
   "execution_count": null,
   "metadata": {},
   "outputs": [
    {
     "name": "stdout",
     "output_type": "stream",
     "text": [
      "Uploading...\n",
      "requirements.txt was uploaded successfully\n",
      "__init__.py was uploaded successfully\n",
      "Pipfile was uploaded successfully\n",
      "entry.py was uploaded successfully\n",
      "using_keras.txt was uploaded successfully\n",
      "data/multi.hdf5 was uploaded successfully\n",
      "data/tokenizer.pkl was uploaded successfully\n",
      "7 files uploaded.\n",
      "Deploying...\n",
      "project_id: news-categories\n",
      "version: 6\n",
      "description: \n",
      "url: None\n",
      "deployed: False\n",
      "deployed_timestamp: None\n",
      "destroyed: False\n",
      "destroyed_timestamp: 2020-05-20T21:42:19.091448Z\n",
      "updated: 2020-05-20T21:42:50.622076Z\n",
      "timestamp: 2020-05-19T03:49:04.389957Z\n",
      "URL is not ready yet. Use `.status()` to check deployment status.\n"
     ]
    }
   ],
   "source": [
    "version.push(\"/Users/jmitch/tight/my-tight-apps/jmitchel3/news-categories/\")"
   ]
  },
  {
   "cell_type": "code",
   "execution_count": null,
   "metadata": {},
   "outputs": [
    {
     "name": "stdout",
     "output_type": "stream",
     "text": [
      "project_id: news-categories\n",
      "version: 6\n",
      "description: \n",
      "url: None\n",
      "deployed: False\n",
      "deployed_timestamp: None\n",
      "destroyed: False\n",
      "destroyed_timestamp: 2020-05-20T21:42:19.091448Z\n",
      "updated: 2020-05-20T21:42:50.622076Z\n",
      "timestamp: 2020-05-19T03:49:04.389957Z\n"
     ]
    },
    {
     "data": {
      "text/plain": [
       "{'project_id': 'news-categories',\n",
       " 'version': 6,\n",
       " 'description': '',\n",
       " 'url': None,\n",
       " 'deployed': False,\n",
       " 'deployed_timestamp': None,\n",
       " 'destroyed': False,\n",
       " 'destroyed_timestamp': '2020-05-20T21:42:19.091448Z',\n",
       " 'updated': '2020-05-20T21:42:50.622076Z',\n",
       " 'timestamp': '2020-05-19T03:49:04.389957Z'}"
      ]
     },
     "execution_count": null,
     "metadata": {},
     "output_type": "execute_result"
    }
   ],
   "source": [
    "version.details()"
   ]
  },
  {
   "cell_type": "code",
   "execution_count": null,
   "metadata": {},
   "outputs": [
    {
     "name": "stdout",
     "output_type": "stream",
     "text": [
      "project_id: news-categories\n",
      "version: 6\n",
      "description: \n",
      "url: None\n",
      "deployed: False\n",
      "deployed_timestamp: None\n",
      "destroyed: False\n",
      "destroyed_timestamp: 2020-05-20T21:42:19.091448Z\n",
      "updated: 2020-05-20T21:42:50.622076Z\n",
      "timestamp: 2020-05-19T03:49:04.389957Z\n"
     ]
    },
    {
     "data": {
      "text/plain": [
       "{'project_id': 'news-categories',\n",
       " 'version': 6,\n",
       " 'description': '',\n",
       " 'url': None,\n",
       " 'deployed': False,\n",
       " 'deployed_timestamp': None,\n",
       " 'destroyed': False,\n",
       " 'destroyed_timestamp': '2020-05-20T21:42:19.091448Z',\n",
       " 'updated': '2020-05-20T21:42:50.622076Z',\n",
       " 'timestamp': '2020-05-19T03:49:04.389957Z'}"
      ]
     },
     "execution_count": null,
     "metadata": {},
     "output_type": "execute_result"
    }
   ],
   "source": [
    "version.status()"
   ]
  },
  {
   "cell_type": "code",
   "execution_count": null,
   "metadata": {},
   "outputs": [],
   "source": [
    "# version.destroy()"
   ]
  },
  {
   "cell_type": "code",
   "execution_count": null,
   "metadata": {},
   "outputs": [
    {
     "name": "stdout",
     "output_type": "stream",
     "text": [
      "project_id: news-categories\n",
      "version: 6\n",
      "description: \n",
      "url: None\n",
      "deployed: False\n",
      "deployed_timestamp: None\n",
      "destroyed: True\n",
      "destroyed_timestamp: 2020-05-20T21:42:19.091448Z\n",
      "updated: 2020-05-20T21:42:19.092020Z\n",
      "timestamp: 2020-05-19T03:49:04.389957Z\n"
     ]
    },
    {
     "data": {
      "text/plain": [
       "{'project_id': 'news-categories',\n",
       " 'version': 6,\n",
       " 'description': '',\n",
       " 'url': None,\n",
       " 'deployed': False,\n",
       " 'deployed_timestamp': None,\n",
       " 'destroyed': True,\n",
       " 'destroyed_timestamp': '2020-05-20T21:42:19.091448Z',\n",
       " 'updated': '2020-05-20T21:42:19.092020Z',\n",
       " 'timestamp': '2020-05-19T03:49:04.389957Z'}"
      ]
     },
     "execution_count": null,
     "metadata": {},
     "output_type": "execute_result"
    }
   ],
   "source": [
    "version.status()"
   ]
  },
  {
   "cell_type": "code",
   "execution_count": null,
   "metadata": {},
   "outputs": [],
   "source": [
    "versions = Version.objects.all(project_id=\"news-categories\", size='10', deployed=True)\n",
    "versions"
   ]
  },
  {
   "cell_type": "code",
   "execution_count": null,
   "metadata": {},
   "outputs": [],
   "source": [
    "# import requests\n",
    "# r = requests.post('https://www.tight.ai/api/webhooks/projects/versions/status/', data={})"
   ]
  },
  {
   "cell_type": "code",
   "execution_count": null,
   "metadata": {},
   "outputs": [],
   "source": [
    "d = \"{\\\"app_name\\\": \\\"news-categories-v5\\\", \\\"address\\\": {\\\"url\\\": \\\"http://news-categories-v5.apps.svc.cluster.local\\\"}, \\\"conditions\\\": [{\\\"lastTransitionTime\\\": \\\"2020-05-19T03:48:44Z\\\", \\\"status\\\": \\\"True\\\", \\\"type\\\": \\\"ConfigurationsReady\\\"}, {\\\"lastTransitionTime\\\": \\\"2020-05-19T03:48:47Z\\\", \\\"status\\\": \\\"True\\\", \\\"type\\\": \\\"Ready\\\"}, {\\\"lastTransitionTime\\\": \\\"2020-05-19T03:48:47Z\\\", \\\"status\\\": \\\"True\\\", \\\"type\\\": \\\"RoutesReady\\\"}], \\\"latestCreatedRevisionName\\\": \\\"news-categories-v5-rk6bb\\\", \\\"latestReadyRevisionName\\\": \\\"news-categories-v5-rk6bb\\\", \\\"observedGeneration\\\": 1, \\\"traffic\\\": [{\\\"latestRevision\\\": true, \\\"percent\\\": 100, \\\"revisionName\\\": \\\"news-categories-v5-rk6bb\\\"}], \\\"url\\\": \\\"http://news-categories-v5.apps.tight.ml\\\"}\""
   ]
  },
  {
   "cell_type": "code",
   "execution_count": null,
   "metadata": {},
   "outputs": [],
   "source": [
    "import json"
   ]
  },
  {
   "cell_type": "code",
   "execution_count": null,
   "metadata": {},
   "outputs": [],
   "source": [
    "b = json.loads(d)"
   ]
  },
  {
   "cell_type": "code",
   "execution_count": null,
   "metadata": {},
   "outputs": [],
   "source": [
    "b"
   ]
  },
  {
   "cell_type": "code",
   "execution_count": null,
   "metadata": {},
   "outputs": [
    {
     "data": {
      "text/plain": [
       "{'app_name': 'news-categories-v6',\n",
       " 'project_id': 'news-categories',\n",
       " 'version': 6,\n",
       " 'url': 'http://news-categories-v6.apps.tight.ml',\n",
       " 'status_code': 200,\n",
       " 'cluster_url': 'http://news-categories-v6.apps.svc.cluster.local',\n",
       " 'ready': True,\n",
       " 'ready_time': '2020-05-19T03:52:20Z'}"
      ]
     },
     "execution_count": null,
     "metadata": {},
     "output_type": "execute_result"
    }
   ],
   "source": [
    "import requests\n",
    "endpoint = \"http://127.0.0.1:8123/status\"\n",
    "data = {\n",
    "    'project_id': \"news-categories\",\n",
    "    \"version\": \"6\"\n",
    "}\n",
    "r = requests.post(endpoint, json=data)\n",
    "data = r.json()\n",
    "data"
   ]
  },
  {
   "cell_type": "code",
   "execution_count": null,
   "metadata": {},
   "outputs": [],
   "source": [
    "import requests\n",
    "endpoint = \"http://127.0.0.1:8123/live/status/news-categories/v5\"\n",
    "r = requests.get(endpoint)\n",
    "data = r.json()\n",
    "data"
   ]
  },
  {
   "cell_type": "code",
   "execution_count": null,
   "metadata": {},
   "outputs": [],
   "source": [
    "traffic_data = data['status']['traffic']\n",
    "traffic_data = sorted(traffic_data, key = lambda x: -x['percent'])\n",
    "traffic_data"
   ]
  },
  {
   "cell_type": "code",
   "execution_count": null,
   "metadata": {},
   "outputs": [],
   "source": [
    "ready = False\n",
    "for i in data['status']['conditions']:\n",
    "    _cond_ready = f\"{i['status']}\".lower() == \"true\"\n",
    "    ready = _cond_ready\n",
    "ready"
   ]
  },
  {
   "cell_type": "code",
   "execution_count": null,
   "metadata": {},
   "outputs": [],
   "source": [
    "sorted(traffic_data, key = lambda x: -x['percent'])"
   ]
  },
  {
   "cell_type": "code",
   "execution_count": null,
   "metadata": {},
   "outputs": [],
   "source": [
    "\n"
   ]
  }
 ],
 "metadata": {
  "kernelspec": {
   "display_name": "Python 3",
   "language": "python",
   "name": "python3"
  }
 },
 "nbformat": 4,
 "nbformat_minor": 4
}

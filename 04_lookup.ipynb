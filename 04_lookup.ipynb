{
 "cells": [
  {
   "cell_type": "code",
   "execution_count": null,
   "metadata": {},
   "outputs": [],
   "source": [
    "# default_exp lookup"
   ]
  },
  {
   "cell_type": "code",
   "execution_count": null,
   "metadata": {},
   "outputs": [],
   "source": [
    "#export\n",
    "import requests\n",
    "import tempfile\n",
    "import os\n",
    "import re\n",
    "from io import BytesIO\n",
    "import shutil\n",
    "import json"
   ]
  },
  {
   "cell_type": "code",
   "execution_count": null,
   "metadata": {},
   "outputs": [],
   "source": [
    "#export\n",
    "import tightai\n",
    "from tightai import api_key\n",
    "from tightai.exceptions import RequestError\n",
    "from tightai.handlers import credentials\n",
    "from tightai.conf import API_ENDPOINT, CLI_ENDPOINT, USER_HOME"
   ]
  },
  {
   "cell_type": "code",
   "execution_count": null,
   "metadata": {},
   "outputs": [],
   "source": [
    "#hide\n",
    "test = False\n",
    "if test:\n",
    "    CLI_ENDPOINT = \"http://cli.desalsa.io:8000\""
   ]
  },
  {
   "cell_type": "code",
   "execution_count": null,
   "metadata": {},
   "outputs": [],
   "source": []
  },
  {
   "cell_type": "code",
   "execution_count": null,
   "metadata": {},
   "outputs": [
    {
     "data": {
      "text/plain": [
       "'https://cli.tight.ai/'"
      ]
     },
     "execution_count": null,
     "metadata": {},
     "output_type": "execute_result"
    }
   ],
   "source": [
    "CLI_ENDPOINT"
   ]
  },
  {
   "cell_type": "code",
   "execution_count": null,
   "metadata": {},
   "outputs": [],
   "source": [
    "#export\n",
    "class Lookup:\n",
    "    api = CLI_ENDPOINT\n",
    "    \n",
    "    @classmethod\n",
    "    def get_request_path(self, path, next_url=None):\n",
    "        if path.startswith(\"http\"):\n",
    "            request_path = path\n",
    "        else:\n",
    "            if not path.startswith(\"/\"):\n",
    "                path = '/' + path\n",
    "            request_path = \"{api}{path}\".format(api=self.api, path=path)\n",
    "            if next_url is not None:\n",
    "                request_path = next_url\n",
    "        return request_path\n",
    "    \n",
    "    @classmethod\n",
    "    def get_http_headers(self):\n",
    "        api_key = None\n",
    "        try:\n",
    "            api_key = tightai.api_key\n",
    "        except:\n",
    "            pass\n",
    "        if api_key != None:    \n",
    "            return {'Authorization': f\"Bearer {api_key}\"}\n",
    "        token = credentials.get_encoded_token()\n",
    "        authorization_header = f\"Token {token}\"\n",
    "        return {'Authorization': authorization_header}\n",
    "    \n",
    "    @classmethod\n",
    "    def perform_request(self, method, endpoint_path, data=None, next_url=None):\n",
    "        headers = self.get_http_headers()\n",
    "        path = self.get_request_path(endpoint_path)\n",
    "        return requests.request(method, path, data=data, headers=headers)\n",
    "    \n",
    "    @classmethod\n",
    "    def http_get(self, endpoint_path, next_url=None, **kwargs):\n",
    "        return self.perform_request(\"get\", endpoint_path, data=kwargs, next_url=next_url)\n",
    "\n",
    "    @classmethod\n",
    "    def http_put(self, endpoint_path, data={}, **kwargs):\n",
    "        return self.perform_request(\"put\", endpoint_path, data=data)\n",
    "    \n",
    "    @classmethod\n",
    "    def http_delete(self, endpoint_path, data={}, **kwargs):\n",
    "        return self.perform_request(\"delete\", endpoint_path, data=data)\n",
    "    \n",
    "    @classmethod\n",
    "    def http_post(self, endpoint_path, data={}, **kwargs):\n",
    "        return self.perform_request(\"post\", endpoint_path, data=data)\n",
    "    \n",
    "    @classmethod\n",
    "    def handle_invalid_lookup(self, response, expected_status_code=200):\n",
    "        r = response\n",
    "        if not r.status_code == expected_status_code:\n",
    "            try:\n",
    "                msg = r.json()\n",
    "            except:\n",
    "                msg = r.text\n",
    "            if isinstance(msg, dict):\n",
    "                if \"detail\" in msg:\n",
    "                    msg = msg['detail']\n",
    "                else:\n",
    "                    final_msg = []\n",
    "                    for k, v in msg.items():\n",
    "                        sub_v = v\n",
    "                        if isinstance(v, list):\n",
    "                            sub_v = \", \".join(v)\n",
    "                        _msg = f\"{k}: {sub_v}\"\n",
    "                        final_msg.append(_msg)\n",
    "                    msg = final_msg\n",
    "            if isinstance(msg, list):\n",
    "                msg = \", \".join(msg)\n",
    "            raise RequestError(f\"{msg}\", status=r.status_code)"
   ]
  },
  {
   "cell_type": "code",
   "execution_count": null,
   "metadata": {},
   "outputs": [],
   "source": []
  },
  {
   "cell_type": "code",
   "execution_count": null,
   "metadata": {},
   "outputs": [],
   "source": []
  },
  {
   "cell_type": "code",
   "execution_count": null,
   "metadata": {},
   "outputs": [
    {
     "name": "stdout",
     "output_type": "stream",
     "text": [
      "Token am1pdGNoZWwzOjhhMGRjYTAyNDE0NzZkMjU1MzRmZGQ2YWUxZGQ1YTJmZTMyODMyMDU=\n",
      "<Response [200]>\n"
     ]
    },
    {
     "data": {
      "text/plain": [
       "{'count': 33,\n",
       " 'next': 'http://cli.tight.ai/projects/?page=2',\n",
       " 'previous': None,\n",
       " 'results': [{'name': 'hello world my old friend',\n",
       "   'id': 'hello-world-my-old-friend-u2x8',\n",
       "   'owner': {'username': 'jmitchel3',\n",
       "    'first_name': '',\n",
       "    'last_name': '',\n",
       "    'date_joined': '2020-05-11T20:35:48.716644Z'},\n",
       "   'description': None,\n",
       "   'versions': [],\n",
       "   'updated': '2020-05-15T23:35:06.063605Z',\n",
       "   'timestamp': '2020-05-15T23:35:06.063561Z'},\n",
       "  {'name': 'hello world my old friend',\n",
       "   'id': 'hello-world-my-old-friend-s3zu',\n",
       "   'owner': {'username': 'jmitchel3',\n",
       "    'first_name': '',\n",
       "    'last_name': '',\n",
       "    'date_joined': '2020-05-11T20:35:48.716644Z'},\n",
       "   'description': None,\n",
       "   'versions': [],\n",
       "   'updated': '2020-05-15T23:35:43.158569Z',\n",
       "   'timestamp': '2020-05-15T23:35:43.158524Z'},\n",
       "  {'name': 'News Categories',\n",
       "   'id': 'news-categories',\n",
       "   'owner': {'username': 'jmitchel3',\n",
       "    'first_name': '',\n",
       "    'last_name': '',\n",
       "    'date_joined': '2020-05-11T20:35:48.716644Z'},\n",
       "   'description': '',\n",
       "   'versions': [{'project_id': 'news-categories',\n",
       "     'version': 1,\n",
       "     'description': '',\n",
       "     'url': 'http://news-categories-v1.apps.tight.ml',\n",
       "     'deployed': True,\n",
       "     'deployed_timestamp': '2020-05-14T06:08:59Z',\n",
       "     'destroyed': False,\n",
       "     'destroyed_timestamp': '2020-05-14T06:07:37Z',\n",
       "     'updated': '2020-05-14T06:09:38.665720Z',\n",
       "     'timestamp': '2020-05-14T04:36:34.441549Z'}],\n",
       "   'updated': '2020-05-14T04:37:04.895133Z',\n",
       "   'timestamp': '2020-05-14T04:35:18.429311Z'},\n",
       "  {'name': 'hello world my old friend',\n",
       "   'id': 'hello-world-my-old-friend-cuwp',\n",
       "   'owner': {'username': 'jmitchel3',\n",
       "    'first_name': '',\n",
       "    'last_name': '',\n",
       "    'date_joined': '2020-05-11T20:35:48.716644Z'},\n",
       "   'description': None,\n",
       "   'versions': [{'project_id': 'hello-world-my-old-friend-cuwp',\n",
       "     'version': 1,\n",
       "     'description': None,\n",
       "     'url': None,\n",
       "     'deployed': False,\n",
       "     'deployed_timestamp': None,\n",
       "     'destroyed': False,\n",
       "     'destroyed_timestamp': None,\n",
       "     'updated': '2020-05-15T23:41:10.099393Z',\n",
       "     'timestamp': '2020-05-15T23:41:10.099364Z'},\n",
       "    {'project_id': 'hello-world-my-old-friend-cuwp',\n",
       "     'version': 1,\n",
       "     'description': None,\n",
       "     'url': None,\n",
       "     'deployed': False,\n",
       "     'deployed_timestamp': None,\n",
       "     'destroyed': False,\n",
       "     'destroyed_timestamp': None,\n",
       "     'updated': '2020-05-15T23:41:13.080353Z',\n",
       "     'timestamp': '2020-05-15T23:41:13.080317Z'}],\n",
       "   'updated': '2020-05-15T23:41:09.048640Z',\n",
       "   'timestamp': '2020-05-15T23:41:09.048609Z'},\n",
       "  {'name': 'Superhereos Assemble',\n",
       "   'id': 'superhereos-assemble',\n",
       "   'owner': {'username': 'jmitchel3',\n",
       "    'first_name': '',\n",
       "    'last_name': '',\n",
       "    'date_joined': '2020-05-11T20:35:48.716644Z'},\n",
       "   'description': None,\n",
       "   'versions': [],\n",
       "   'updated': '2020-05-15T04:09:40.596651Z',\n",
       "   'timestamp': '2020-05-15T04:09:40.596620Z'}]}"
      ]
     },
     "execution_count": null,
     "metadata": {},
     "output_type": "execute_result"
    }
   ],
   "source": [
    "#hide\n",
    "projects = Lookup().http_get(\"/projects\")\n",
    "print(projects)\n",
    "projects.json()"
   ]
  },
  {
   "cell_type": "code",
   "execution_count": null,
   "metadata": {},
   "outputs": [],
   "source": []
  },
  {
   "cell_type": "code",
   "execution_count": null,
   "metadata": {},
   "outputs": [],
   "source": []
  }
 ],
 "metadata": {
  "kernelspec": {
   "display_name": "Python 3",
   "language": "python",
   "name": "python3"
  }
 },
 "nbformat": 4,
 "nbformat_minor": 4
}

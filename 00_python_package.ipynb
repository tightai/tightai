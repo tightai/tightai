{
 "cells": [
  {
   "cell_type": "code",
   "execution_count": null,
   "metadata": {},
   "outputs": [],
   "source": []
  },
  {
   "cell_type": "markdown",
   "metadata": {},
   "source": [
    "# Python Package (sdk)\n",
    "Basic about the `tightai` python package."
   ]
  },
  {
   "cell_type": "markdown",
   "metadata": {},
   "source": [
    "### Github Repo - https://github.com/tightai/tightai\n",
    "\n",
    "### Repo Shortcut - https://tight.ai/github](https://tight.ai/github\n",
    "\n",
    "### pypi - https://pypi.org/project/tightai/\n",
    "\n",
    "\n",
    "### Install\n",
    "\n",
    "**Via `pip`**\n",
    "```\n",
    "pip install tightai --upgrade\n",
    "```\n",
    "\n",
    "\n",
    "**Via `pipenv`**\n",
    "```\n",
    "pipenv install tightai --upgrade\n",
    "```"
   ]
  },
  {
   "cell_type": "code",
   "execution_count": null,
   "metadata": {},
   "outputs": [],
   "source": [
    "#hide\n",
    "from nbdev.showdoc import *"
   ]
  },
  {
   "cell_type": "code",
   "execution_count": null,
   "metadata": {},
   "outputs": [],
   "source": [
    "#hide\n",
    "import os\n",
    "pkg = f\"python $tightlocal --port 5007 --dir .\"\n",
    "pkg"
   ]
  },
  {
   "cell_type": "code",
   "execution_count": null,
   "metadata": {},
   "outputs": [],
   "source": [
    "#hide\n",
    "from nbdev.export import *\n",
    "notebook2script()"
   ]
  },
  {
   "cell_type": "code",
   "execution_count": null,
   "metadata": {},
   "outputs": [],
   "source": []
  }
 ],
 "metadata": {
  "kernelspec": {
   "display_name": "Python 3",
   "language": "python",
   "name": "python3"
  }
 },
 "nbformat": 4,
 "nbformat_minor": 2
}

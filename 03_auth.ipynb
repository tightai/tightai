{
 "cells": [
  {
   "cell_type": "code",
   "execution_count": null,
   "metadata": {},
   "outputs": [],
   "source": [
    "# default_exp auth"
   ]
  },
  {
   "cell_type": "code",
   "execution_count": null,
   "metadata": {},
   "outputs": [],
   "source": [
    "#export\n",
    "import base64\n",
    "import os\n",
    "import getpass\n",
    "import requests"
   ]
  },
  {
   "cell_type": "code",
   "execution_count": null,
   "metadata": {},
   "outputs": [],
   "source": [
    "#export\n",
    "from tightai.conf import CLI_ENDPOINT, API_ENDPOINT, TIGHTAI_LOCAL_DIRECTORY, TIGHTAI_LOCAL_CREDENTIALS\n",
    "from tightai.handlers import credentials\n",
    "\n",
    "AUTH_PATH = TIGHTAI_LOCAL_CREDENTIALS"
   ]
  },
  {
   "cell_type": "code",
   "execution_count": null,
   "metadata": {},
   "outputs": [],
   "source": [
    "#hide\n",
    "test = False\n",
    "if test:\n",
    "    CLI_ENDPOINT = \"http://cli.desalsa.io:8000\""
   ]
  },
  {
   "cell_type": "code",
   "execution_count": null,
   "metadata": {},
   "outputs": [],
   "source": [
    "#export\n",
    "class Auth:    \n",
    "    def username_input(self, label='Username / Email'):\n",
    "        username = input(\"{label}: \".format(label=label))\n",
    "        if username == None or username == \"\":\n",
    "            print(\"Username is required. \\n\")\n",
    "            return self.username_input()\n",
    "        return username\n",
    "\n",
    "    def email_input(self):\n",
    "        email = input(\"Email: \")\n",
    "        if email == None or email == \"\":\n",
    "            print(\"Email is required. \\n\")\n",
    "            return self.email_input()\n",
    "        return email\n",
    "\n",
    "    def password_input(self, label='Password (typing hidden on purpose)'):\n",
    "        pw = getpass.getpass(\"{label}: \".format(label=label))\n",
    "        if pw == None or pw == \"\":\n",
    "            print(\"Password is required. \\n\")\n",
    "            return self.password_input()\n",
    "        return pw\n",
    "\n",
    "    def login(self, username=None, password=None):\n",
    "        if username is None:\n",
    "            username = self.username_input()\n",
    "        if password is None:\n",
    "            password = self.password_input()\n",
    "        TIGHTAI_LOCAL_DIRECTORY.mkdir(parents=True, exist_ok=True)\n",
    "        data = {\"username\": username, \"password\": password}\n",
    "        cli_login = f\"{CLI_ENDPOINT}/login/\"\n",
    "        r = requests.post(cli_login, data=data)\n",
    "        if r.status_code in range(200, 299):\n",
    "            response_data = r.json()\n",
    "            user = response_data.get(\"user\")\n",
    "            token = response_data.get(\"token\")\n",
    "            if user is not None:\n",
    "                username = user.get('username')\n",
    "            credentials.to_environ(username=username, token=token)\n",
    "            credentials.to_file(username=username, token=token)\n",
    "            print(\"You are now logged in\")\n",
    "            #return True\n",
    "        else:\n",
    "            try:\n",
    "                response = r.json()\n",
    "            except:\n",
    "                return \"There was an error in your request.\"\n",
    "            if \"non_field_errors\" in response:\n",
    "                errors = response['non_field_errors']\n",
    "                for e in errors:\n",
    "                    print(e)\n",
    "                #return None\n",
    "        #return True\n",
    "\n",
    "    def logout(self):\n",
    "        return credentials.remove()\n",
    "\n",
    "    def signup(self):\n",
    "        username                 = self.username_input(label='Username')\n",
    "        email                    = self.email_input()\n",
    "        password                 = self.password_input(label='Password')\n",
    "        confirm_password         = self.password_input(label='Confirm Password')\n",
    "        if confirm_password != password:\n",
    "            print(\"Passwords do not match. Please try again.\")\n",
    "            password                 = self.password_input(label='Password')\n",
    "            confirm_password         = self.password_input(label='Confirm Password')\n",
    "        data = {\"username\": username, \"email\": email, \"password\": password, \"password2\": confirm_password}\n",
    "        cli_login = \"{base_endpoint}/register/\".format(base_endpoint=CLI_ENDPOINT)\n",
    "        r = requests.post(cli_login, data=data)\n",
    "        if r.status_code in range(200, 299):\n",
    "            response_data = r.json()\n",
    "            print(\"You are now registered. \\nPlease confirm your email. \\nWe wil send you a confirmation from `hi@tight.ai` shortly.\\nThank you.\")\n",
    "            user = response_data.get(\"user\")\n",
    "            token = response_data.get(\"token\")\n",
    "            if user is not None:\n",
    "                username = user.get('username')\n",
    "            credentials.to_environ(username=username, token=token)\n",
    "            credentials.to_file(username=username, token=token)\n",
    "            #return True\n",
    "        else:\n",
    "            try:\n",
    "                response = r.json()\n",
    "            except:\n",
    "                return \"There was an error in your request.\"\n",
    "            if \"non_field_errors\" in response:\n",
    "                errors = response['non_field_errors']\n",
    "                for e in errors:\n",
    "                    print(e)\n",
    "                #return None\n",
    "        #return True\n",
    "\n",
    "\n",
    "auth      = Auth()\n",
    "path      = AUTH_PATH\n",
    "login     = auth.login\n",
    "logout    = auth.logout\n",
    "signup    = auth.signup\n"
   ]
  },
  {
   "cell_type": "code",
   "execution_count": null,
   "metadata": {},
   "outputs": [
    {
     "name": "stdout",
     "output_type": "stream",
     "text": [
      "Successfully logged out.\n",
      "Username / Email: jmitchel3\n",
      "Password (typing hidden on purpose): ········\n",
      "You are now logged in\n"
     ]
    }
   ],
   "source": [
    "logout()\n",
    "login()"
   ]
  },
  {
   "cell_type": "code",
   "execution_count": null,
   "metadata": {},
   "outputs": [],
   "source": []
  },
  {
   "cell_type": "code",
   "execution_count": null,
   "metadata": {},
   "outputs": [],
   "source": []
  }
 ],
 "metadata": {
  "kernelspec": {
   "display_name": "Python 3",
   "language": "python",
   "name": "python3"
  }
 },
 "nbformat": 4,
 "nbformat_minor": 4
}

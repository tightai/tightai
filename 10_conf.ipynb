{
 "cells": [
  {
   "cell_type": "code",
   "execution_count": null,
   "metadata": {},
   "outputs": [],
   "source": [
    "# default_exp conf"
   ]
  },
  {
   "cell_type": "markdown",
   "metadata": {},
   "source": [
    "# Default Configuration\n",
    "\n",
    "Tight.ai default configuration settings."
   ]
  },
  {
   "cell_type": "code",
   "execution_count": null,
   "metadata": {},
   "outputs": [],
   "source": [
    "#export\n",
    "import os\n",
    "from pathlib import Path\n",
    "USER_HOME = Path.home()\n",
    "API_ENDPOINT = 'https://www.tight.ai/api/v1' \n",
    "CLI_ENDPOINT = 'https://cli.tight.ai/'\n",
    "TIGHTAI_LOCAL_DIR_NAME = '.tightai'\n",
    "TIGHTAI_LOCAL_DIRECTORY = USER_HOME / TIGHTAI_LOCAL_DIR_NAME\n",
    "TIGHTAI_LOCAL_CREDENTIALS = TIGHTAI_LOCAL_DIRECTORY / 'credentials'\n",
    "TIGHTAI_LOCAL_PROJECTS_DIR = TIGHTAI_LOCAL_CREDENTIALS / 'projects'\n",
    "TIGHTAI_BASE_TIGHTIGNORE = Path(\"\").resolve() / \".tightignore\""
   ]
  },
  {
   "cell_type": "code",
   "execution_count": null,
   "metadata": {},
   "outputs": [
    {
     "data": {
      "text/plain": [
       "PosixPath('/Users/jmitch')"
      ]
     },
     "execution_count": null,
     "metadata": {},
     "output_type": "execute_result"
    }
   ],
   "source": [
    "USER_HOME"
   ]
  },
  {
   "cell_type": "code",
   "execution_count": null,
   "metadata": {},
   "outputs": [
    {
     "data": {
      "text/plain": [
       "'.tightai'"
      ]
     },
     "execution_count": null,
     "metadata": {},
     "output_type": "execute_result"
    }
   ],
   "source": [
    "TIGHTAI_LOCAL_DIR_NAME"
   ]
  },
  {
   "cell_type": "code",
   "execution_count": null,
   "metadata": {},
   "outputs": [
    {
     "name": "stdout",
     "output_type": "stream",
     "text": [
      "/Users/jmitch/.tightai True\n"
     ]
    }
   ],
   "source": [
    "print(TIGHTAI_LOCAL_DIRECTORY, TIGHTAI_LOCAL_DIRECTORY.exists())"
   ]
  },
  {
   "cell_type": "code",
   "execution_count": null,
   "metadata": {},
   "outputs": [
    {
     "name": "stdout",
     "output_type": "stream",
     "text": [
      "/Users/jmitch/.tightai/credentials True\n"
     ]
    }
   ],
   "source": [
    "print(TIGHTAI_LOCAL_CREDENTIALS, TIGHTAI_LOCAL_CREDENTIALS.exists())"
   ]
  },
  {
   "cell_type": "code",
   "execution_count": null,
   "metadata": {},
   "outputs": [
    {
     "name": "stdout",
     "output_type": "stream",
     "text": [
      "/Users/jmitch/.tightai/credentials/projects False\n"
     ]
    }
   ],
   "source": [
    "print(TIGHTAI_LOCAL_PROJECTS_DIR, TIGHTAI_LOCAL_PROJECTS_DIR.exists())"
   ]
  },
  {
   "cell_type": "code",
   "execution_count": null,
   "metadata": {},
   "outputs": [
    {
     "name": "stdout",
     "output_type": "stream",
     "text": [
      "/Users/jmitch/Tight/tightai/.tightignore True\n"
     ]
    }
   ],
   "source": [
    "print(TIGHTAI_BASE_TIGHTIGNORE, TIGHTAI_BASE_TIGHTIGNORE.exists())"
   ]
  },
  {
   "cell_type": "code",
   "execution_count": null,
   "metadata": {},
   "outputs": [],
   "source": []
  }
 ],
 "metadata": {
  "kernelspec": {
   "display_name": "Python 3",
   "language": "python",
   "name": "python3"
  }
 },
 "nbformat": 4,
 "nbformat_minor": 4
}

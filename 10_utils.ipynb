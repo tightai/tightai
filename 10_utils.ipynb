{
 "cells": [
  {
   "cell_type": "code",
   "execution_count": null,
   "metadata": {},
   "outputs": [],
   "source": [
    "# default_exp utils"
   ]
  },
  {
   "cell_type": "code",
   "execution_count": null,
   "metadata": {},
   "outputs": [],
   "source": [
    "#export\n",
    "def sort_by_key(items=[], key=None):\n",
    "    reverse = False\n",
    "    if key.startswith(\"-\"):\n",
    "        key = key[1:]\n",
    "        reverse = True\n",
    "    if key == None:\n",
    "        return items\n",
    "    if len(items) ==0:\n",
    "        return []\n",
    "    _item = items[0]\n",
    "    valid_keys = []\n",
    "    \n",
    "    if isinstance(_item, dict):\n",
    "        print(\"This method is for sorting lists of objects and not `dict`.\")\n",
    "        return items\n",
    "    if isinstance(_item, set):\n",
    "        print(\"This method is for sorting lists of objects and not `set`.\")\n",
    "        return items\n",
    "    if not isinstance(_item, object):\n",
    "        print(\"This method is for sorting lists of objects.\")\n",
    "        return items\n",
    "    try:\n",
    "        valid_keys += list(set(_item.__dict__.keys()))\n",
    "    except:\n",
    "        pass\n",
    "    if key not in list(valid_keys):\n",
    "        valid_str = \"\"\n",
    "        msg = f\"{key} is not a valid sorting option.\"\n",
    "        if len(valid_keys) > 0:\n",
    "            valid_str = \", \".join(valid_keys)\n",
    "            msg = f\"{msg} Choices are: {valid_str}\"\n",
    "        else:\n",
    "            msg = f\"{msg} Are you sure that list of items with the Python class `{str(_item.__class__.__name__)}` can be sorted?\"\n",
    "        raise Exception(msg)\n",
    "    items = sorted(items, key=lambda x: getattr(x, key), reverse=reverse)\n",
    "    return items\n",
    "\n",
    "\n"
   ]
  },
  {
   "cell_type": "code",
   "execution_count": null,
   "metadata": {},
   "outputs": [],
   "source": [
    "#hide\n",
    "versions = [{\"project_id\": \"abc\"}, {\"project_id\": \"dec\"}]\n",
    "sort_by_key(versions, key='-project_id')"
   ]
  },
  {
   "cell_type": "code",
   "execution_count": null,
   "metadata": {},
   "outputs": [],
   "source": [
    "#hide\n",
    "versions = [{\"project_id\", \"abc\"}, {\"project_id\", \"dec\"}]\n",
    "sort_by_key(versions, key='-project_id')"
   ]
  },
  {
   "cell_type": "code",
   "execution_count": null,
   "metadata": {},
   "outputs": [],
   "source": [
    "#hide\n",
    "class ObjTest(object):\n",
    "    def __repr__(self):\n",
    "        return self.__str__()\n",
    "    \n",
    "    def __str__(self):\n",
    "        return f\"<Object: {self.project_id}>\"\n",
    "    \n",
    "    def __init__(self, d):\n",
    "        for a, b in d.items():\n",
    "            if isinstance(b, (list, tuple)):\n",
    "                setattr(self, a, [ObjTest(x) if isinstance(x, dict) else x for x in b])\n",
    "            else:\n",
    "                setattr(self, a, ObjTest(b) if isinstance(b, dict) else b)\n",
    "\n",
    "versions = [{\"project_id\": \"abc\"}, {\"project_id\": \"dec\"}]\n",
    "final_versions = [ObjTest(x) for x in versions]\n",
    "sort_by_key(final_versions, key='-project_id')"
   ]
  },
  {
   "cell_type": "code",
   "execution_count": null,
   "metadata": {},
   "outputs": [],
   "source": [
    "#export\n",
    "\n",
    "from datetime import datetime, timedelta\n",
    "\n",
    "def sec_to_hours(seconds):\n",
    "    a=str(int(seconds//3600))\n",
    "    b=str(int(seconds%3600)//60)\n",
    "    c=str(int((seconds%3600)%60))\n",
    "    d= f\"{a} hours {b} mins {c} seconds ago.\"\n",
    "    return d\n",
    "\n",
    "\n",
    "def to_datetime(datetime_str):\n",
    "    try:\n",
    "        datetime_str = datetime.strptime(datetime_str, \"%Y-%m-%dT%H:%M:%S.%fz\")\n",
    "        valid = True\n",
    "    except:\n",
    "        valid = False\n",
    "    return datetime_str, valid\n",
    "\n",
    "def format_date(datetime_obj):\n",
    "    return datetime_obj.strftime('%d %b %Y')"
   ]
  },
  {
   "cell_type": "code",
   "execution_count": null,
   "metadata": {},
   "outputs": [],
   "source": []
  }
 ],
 "metadata": {
  "kernelspec": {
   "display_name": "Python 3",
   "language": "python",
   "name": "python3"
  }
 },
 "nbformat": 4,
 "nbformat_minor": 4
}

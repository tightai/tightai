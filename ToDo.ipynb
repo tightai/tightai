{
 "cells": [
  {
   "cell_type": "markdown",
   "metadata": {},
   "source": [
    "### CLI Tool\n",
    "    - `tight project create --name hello-world` # create project\n",
    "    - `tight project set --v 1 --project-id abc .` # set current dir `.` as project-id abc v1\n",
    "    - `tight project upload --v 1 .` # upload current directory\n",
    "    - `tight project push --v 1 --project-id abc .` # push/deploy project in current dir\n",
    "    - `tight project destroy` # destroy project\n",
    "    - `tight local .` # run the local server\n",
    "    - `tight run --project-id abc --v 1 --json '{\"hello\": \"world\"}`\n",
    "    - `tight run --project-id abc --v 1 --file /path/to/file/image.jpg"
   ]
  },
  {
   "cell_type": "markdown",
   "metadata": {},
   "source": [
    "### `tightapp.json` config\n",
    "\n",
    "Something like:\n",
    "```json\n",
    "{\n",
    "    \"project_id\": \"news-categories\", \n",
    "    \"version\": 6, \n",
    "    \"description\": \"\",\n",
    "    \"path\": \"/Users/jmitch/tight/my-tight-apps/jmitchel3/news-categories\",\n",
    "    \"url\": null, \n",
    "}\n",
    " ```"
   ]
  },
  {
   "cell_type": "code",
   "execution_count": null,
   "metadata": {},
   "outputs": [],
   "source": []
  }
 ],
 "metadata": {
  "kernelspec": {
   "display_name": "Python 3",
   "language": "python",
   "name": "python3"
  }
 },
 "nbformat": 4,
 "nbformat_minor": 4
}

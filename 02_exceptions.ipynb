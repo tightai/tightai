{
 "cells": [
  {
   "cell_type": "code",
   "execution_count": null,
   "metadata": {},
   "outputs": [],
   "source": [
    "# default_exp exceptions"
   ]
  },
  {
   "cell_type": "code",
   "execution_count": null,
   "metadata": {},
   "outputs": [],
   "source": [
    "#export\n",
    "\n",
    "class ArgumentsRequired(Exception):\n",
    "    '''\n",
    "    Missing required arguments to class/function\n",
    "    constructor\n",
    "    '''\n",
    "    def __init__(self, *args, **kwargs):\n",
    "        args = [x for x in list(args) if x != None]\n",
    "        self.missing = args\n",
    "        is_or = kwargs.get('is_or')\n",
    "        if is_or == True:\n",
    "            first_ = [f\"`{x}`\" for x in args[:-1]]\n",
    "            final_ = args[-1]\n",
    "            msg_start = f'{\", \".join(first_)} or `{final_}`'\n",
    "            msg = f\"You must pass {msg_start}. At least one is a required argument.\"\n",
    "            self.message = msg\n",
    "        else:\n",
    "            msg_start = \"\".join(args)\n",
    "            verb = \"is a\"\n",
    "            adj = \"required\"\n",
    "            noun = \"argument\"\n",
    "            if len(args) > 1:\n",
    "                first_ = [f\"`{x}`\" for x in args[:-1]]\n",
    "                final_ = args[-1]\n",
    "                msg_start = f'{\", \".join(first_)} and `{final_}`'\n",
    "                verb = \"are\"\n",
    "                noun = \"arguments\"\n",
    "            full_mssage = \" \".join([msg_start, verb, adj, noun]).strip()\n",
    "            self.message = f\"{full_mssage}.\".strip()\n",
    "    def __str__(self):\n",
    "        return repr(self.message)\n",
    "    \n",
    "\n",
    "class RequestError(Exception):\n",
    "    '''\n",
    "    General HTTP Request Error\n",
    "    '''\n",
    "    def __init__(self, msg, status):\n",
    "        self.message = msg\n",
    "        self.status = status\n",
    "    def __str__(self):\n",
    "        return repr(f\"{self.message} (status {self.status})\")\n",
    "    \n",
    "\n",
    "class ProjectDoesNotExist(Exception):\n",
    "    '''\n",
    "    Tight.ai project does not exist\n",
    "    '''\n",
    "    def __init__(self, project_id=None):\n",
    "        if project_id != None:\n",
    "            self.message = f\"Project {project_id} is not found, does not exist, or you do not have permission to view.\"\n",
    "        self.message = f\"This project does not exist.\"\n",
    "        self.project_id = project_id\n",
    "    def __str__(self):\n",
    "        return repr(f\"{self.message}\")\n",
    "\n",
    "    \n",
    "class VersionDoesNotExist(Exception):\n",
    "    '''\n",
    "    Tight.ai project version does not exist\n",
    "    '''\n",
    "    def __init__(self, project_id=None, version=None):\n",
    "        if project_id != None and version != None:\n",
    "            self.message = f\"The version {version} in project {project_id} is not found, does not exist, or you do not have permission to view.\"\n",
    "        self.message = f\"This project version does not exist.\"\n",
    "        self.project_id = project_id\n",
    "        self.version = version\n",
    "    def __str__(self):\n",
    "        return repr(f\"{self.message}\")\n",
    "    \n",
    "\n",
    "class InvalidProjectVersion(Exception):\n",
    "    '''\n",
    "    Tight.ai project version does not exist\n",
    "    '''\n",
    "    error_str = \"\"\n",
    "    error = \"Unknown\"\n",
    "    def __init__(self, version=None, error=None):\n",
    "        if f\"{error}\".lower() == \"nan\":\n",
    "            self.error = error\n",
    "            self.error_str = \"NaN (not a number)\"\n",
    "        self.message = f\"{version} is invalid.\"\n",
    "        if version != None:\n",
    "            self.message = f\"{version} is an invalid version. Error {self.error_str}\".strip()\n",
    "        self.version = version\n",
    "    def __str__(self):\n",
    "        return repr(f\"{self.message}\")\n",
    "\n",
    "    "
   ]
  },
  {
   "cell_type": "code",
   "execution_count": null,
   "metadata": {},
   "outputs": [
    {
     "ename": "ArgumentsRequired",
     "evalue": "'`version`, `project_id` and `smash` are required arguments.'",
     "output_type": "error",
     "traceback": [
      "\u001b[0;31m---------------------------------------------------------------------------\u001b[0m",
      "\u001b[0;31mArgumentsRequired\u001b[0m                         Traceback (most recent call last)",
      "\u001b[0;32m<ipython-input-100-42ee6f0b4bd7>\u001b[0m in \u001b[0;36m<module>\u001b[0;34m\u001b[0m\n\u001b[1;32m      1\u001b[0m \u001b[0;31m#hide\u001b[0m\u001b[0;34m\u001b[0m\u001b[0;34m\u001b[0m\u001b[0;34m\u001b[0m\u001b[0m\n\u001b[0;32m----> 2\u001b[0;31m \u001b[0;32mraise\u001b[0m \u001b[0mArgumentsRequired\u001b[0m\u001b[0;34m(\u001b[0m\u001b[0;34m'version'\u001b[0m\u001b[0;34m,\u001b[0m \u001b[0;34m'project_id'\u001b[0m\u001b[0;34m,\u001b[0m \u001b[0;34m'smash'\u001b[0m\u001b[0;34m)\u001b[0m\u001b[0;34m\u001b[0m\u001b[0;34m\u001b[0m\u001b[0m\n\u001b[0m",
      "\u001b[0;31mArgumentsRequired\u001b[0m: '`version`, `project_id` and `smash` are required arguments.'"
     ]
    }
   ],
   "source": [
    "#hide\n",
    "raise ArgumentsRequired('version', 'project_id', 'smash')"
   ]
  },
  {
   "cell_type": "code",
   "execution_count": null,
   "metadata": {},
   "outputs": [
    {
     "ename": "ArgumentsRequired",
     "evalue": "'You must pass `project_id` or `version`. At least one is a required argument.'",
     "output_type": "error",
     "traceback": [
      "\u001b[0;31m---------------------------------------------------------------------------\u001b[0m",
      "\u001b[0;31mArgumentsRequired\u001b[0m                         Traceback (most recent call last)",
      "\u001b[0;32m<ipython-input-101-e574487d1e9d>\u001b[0m in \u001b[0;36m<module>\u001b[0;34m\u001b[0m\n\u001b[0;32m----> 1\u001b[0;31m \u001b[0;32mraise\u001b[0m \u001b[0mArgumentsRequired\u001b[0m\u001b[0;34m(\u001b[0m\u001b[0;34m'project_id'\u001b[0m\u001b[0;34m,\u001b[0m \u001b[0;34m'version'\u001b[0m\u001b[0;34m,\u001b[0m \u001b[0mis_or\u001b[0m\u001b[0;34m=\u001b[0m\u001b[0;32mTrue\u001b[0m\u001b[0;34m)\u001b[0m\u001b[0;34m\u001b[0m\u001b[0;34m\u001b[0m\u001b[0m\n\u001b[0m",
      "\u001b[0;31mArgumentsRequired\u001b[0m: 'You must pass `project_id` or `version`. At least one is a required argument.'"
     ]
    }
   ],
   "source": [
    "raise ArgumentsRequired('project_id', 'version', is_or=True)"
   ]
  },
  {
   "cell_type": "code",
   "execution_count": null,
   "metadata": {},
   "outputs": [
    {
     "name": "stdout",
     "output_type": "stream",
     "text": [
      "['project_id', 'version']\n"
     ]
    }
   ],
   "source": [
    "#hide\n",
    "try:\n",
    "    raise ArgumentsRequired('project_id', 'version')\n",
    "except ArgumentsRequired as e:\n",
    "    print(e.missing)"
   ]
  },
  {
   "cell_type": "code",
   "execution_count": null,
   "metadata": {},
   "outputs": [
    {
     "ename": "RequestError",
     "evalue": "'Invalid Request (status 312)'",
     "output_type": "error",
     "traceback": [
      "\u001b[0;31m---------------------------------------------------------------------------\u001b[0m",
      "\u001b[0;31mRequestError\u001b[0m                              Traceback (most recent call last)",
      "\u001b[0;32m<ipython-input-103-477d246298fe>\u001b[0m in \u001b[0;36m<module>\u001b[0;34m\u001b[0m\n\u001b[1;32m      1\u001b[0m \u001b[0;31m#hide\u001b[0m\u001b[0;34m\u001b[0m\u001b[0;34m\u001b[0m\u001b[0;34m\u001b[0m\u001b[0m\n\u001b[0;32m----> 2\u001b[0;31m \u001b[0;32mraise\u001b[0m \u001b[0mRequestError\u001b[0m\u001b[0;34m(\u001b[0m\u001b[0;34m\"Invalid Request\"\u001b[0m\u001b[0;34m,\u001b[0m \u001b[0mstatus\u001b[0m\u001b[0;34m=\u001b[0m\u001b[0;36m312\u001b[0m\u001b[0;34m)\u001b[0m\u001b[0;34m\u001b[0m\u001b[0;34m\u001b[0m\u001b[0m\n\u001b[0m",
      "\u001b[0;31mRequestError\u001b[0m: 'Invalid Request (status 312)'"
     ]
    }
   ],
   "source": [
    "#hide\n",
    "raise RequestError(\"Invalid Request\", status=312)"
   ]
  },
  {
   "cell_type": "code",
   "execution_count": null,
   "metadata": {},
   "outputs": [
    {
     "name": "stdout",
     "output_type": "stream",
     "text": [
      "Invalid Request 312\n"
     ]
    }
   ],
   "source": [
    "#hide\n",
    "try:\n",
    "    raise RequestError(\"Invalid Request\", status=312)\n",
    "except RequestError as e:\n",
    "    print(e.message, e.status)"
   ]
  },
  {
   "cell_type": "code",
   "execution_count": null,
   "metadata": {},
   "outputs": [],
   "source": []
  }
 ],
 "metadata": {
  "kernelspec": {
   "display_name": "Python 3",
   "language": "python",
   "name": "python3"
  }
 },
 "nbformat": 4,
 "nbformat_minor": 4
}
